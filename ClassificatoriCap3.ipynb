{
  "nbformat": 4,
  "nbformat_minor": 0,
  "metadata": {
    "colab": {
      "name": "ClassificatoriCap3.ipynb",
      "provenance": [],
      "collapsed_sections": [],
      "authorship_tag": "ABX9TyNzd3a+gyJHw33lvyc/TOqL",
      "include_colab_link": true
    },
    "kernelspec": {
      "name": "python3",
      "display_name": "Python 3"
    },
    "language_info": {
      "name": "python"
    }
  },
  "cells": [
    {
      "cell_type": "markdown",
      "metadata": {
        "id": "view-in-github",
        "colab_type": "text"
      },
      "source": [
        "<a href=\"https://colab.research.google.com/github/PikoAll/machine-learning-e-deep-learning/blob/main/ClassificatoriCap3.ipynb\" target=\"_parent\"><img src=\"https://colab.research.google.com/assets/colab-badge.svg\" alt=\"Open In Colab\"/></a>"
      ]
    },
    {
      "cell_type": "markdown",
      "metadata": {
        "id": "UlTsodiokK77"
      },
      "source": [
        "#E' consigliabile confrontare piu di un classificatore per svariati motivi, che vanno dal rumore dei dati........\n",
        "#Percetron, Regressione Logistica, SVM, Albero decisionale, Random forest, K-NN"
      ]
    },
    {
      "cell_type": "markdown",
      "metadata": {
        "id": "G3W4LcWqlFrW"
      },
      "source": [
        "Caricamento dataset iris"
      ]
    },
    {
      "cell_type": "code",
      "metadata": {
        "colab": {
          "base_uri": "https://localhost:8080/"
        },
        "id": "ar8Rn6a-kAMw",
        "outputId": "f9bd169d-ab91-4456-d29b-c7875600ae1f"
      },
      "source": [
        "from sklearn import datasets\n",
        "import numpy as np\n",
        "\n",
        "iris=datasets.load_iris()\n",
        "X=iris.data[:,[2,3]] #seleziono tutte le righe relative alle colonne 2 e 3\n",
        "y=iris.target\n",
        "print(X[:5])\n",
        "print('target:',np.unique(y))"
      ],
      "execution_count": null,
      "outputs": [
        {
          "output_type": "stream",
          "name": "stdout",
          "text": [
            "[[1.4 0.2]\n",
            " [1.4 0.2]\n",
            " [1.3 0.2]\n",
            " [1.5 0.2]\n",
            " [1.4 0.2]]\n",
            "target: [0 1 2]\n"
          ]
        }
      ]
    },
    {
      "cell_type": "code",
      "metadata": {
        "colab": {
          "base_uri": "https://localhost:8080/"
        },
        "id": "aR9DlxPpl7wg",
        "outputId": "3907467b-daea-4015-f80d-9822548ff9ac"
      },
      "source": [
        "from sklearn.model_selection import train_test_split\n",
        "X_train,X_test,y_train,y_test=train_test_split(X,y, test_size=0.3, random_state=1, stratify=y) #random_state =mescolare dataset (1 e seme casuale)\n",
        "print('verifico stratificazione se è avvenuta correttamente:',np.bincount(y_train))"
      ],
      "execution_count": null,
      "outputs": [
        {
          "output_type": "stream",
          "name": "stdout",
          "text": [
            "verifico stratificazione se è avvenuta correttamente: [35 35 35]\n"
          ]
        }
      ]
    },
    {
      "cell_type": "markdown",
      "metadata": {
        "id": "Iky3GN4jnMcb"
      },
      "source": [
        "Standardizzare"
      ]
    },
    {
      "cell_type": "code",
      "metadata": {
        "id": "KrZXzGPfnPFC"
      },
      "source": [
        "from sklearn.preprocessing import  StandardScaler\n",
        "sc=StandardScaler()\n",
        "sc.fit(X_train)  #serve per stimare i parametri di media e varianza\n",
        "X_trainS=sc.transform(X_train)\n",
        "X_testS=sc.transform(X_test)"
      ],
      "execution_count": null,
      "outputs": []
    },
    {
      "cell_type": "markdown",
      "metadata": {
        "id": "RpIDsSuCn2NI"
      },
      "source": [
        "Ora usiamo il Percetron per la classificazione multiclasse (il percetron e di uso educativo e sconsigliato usarlo)"
      ]
    },
    {
      "cell_type": "code",
      "metadata": {
        "colab": {
          "base_uri": "https://localhost:8080/"
        },
        "id": "_v8_lhXvn7cy",
        "outputId": "11bfce62-22dd-4f95-ab7b-22d0eed0f2ea"
      },
      "source": [
        "from sklearn.linear_model import Perceptron\n",
        "from sklearn.metrics import accuracy_score\n",
        "\n",
        "ppn=Perceptron(eta0=0.01, random_state=1) #eta0 è il numero di epoche\n",
        "ppn.fit(X_trainS,y_train)\n",
        "\n",
        "y_pred=ppn.predict(X_testS)\n",
        "print('Numero esempi classificati male:',(y_test!=y_pred).sum())\n",
        "\n",
        "print('Accuratezza:',accuracy_score(y_test,y_pred))\n",
        "print('Alternativa Accuratezza:',ppn.score(X_testS,y_test))"
      ],
      "execution_count": null,
      "outputs": [
        {
          "output_type": "stream",
          "name": "stdout",
          "text": [
            "Numero esempi classificati male: 2\n",
            "Accuratezza: 0.9555555555555556\n",
            "Alternativa Accuratezza: 0.9555555555555556\n"
          ]
        }
      ]
    },
    {
      "cell_type": "markdown",
      "metadata": {
        "id": "Nml7Op4WqnOm"
      },
      "source": [
        "Plot "
      ]
    },
    {
      "cell_type": "code",
      "metadata": {
        "id": "mfWKbG0Pqphb"
      },
      "source": [
        "from matplotlib.colors import ListedColormap\n",
        "import matplotlib.pyplot as plt\n",
        "\n",
        "# To check recent matplotlib compatibility\n",
        "import matplotlib\n",
        "from distutils.version import LooseVersion\n",
        "\n",
        "\n",
        "def plot_decision_regions(X, y, classifier, test_idx=None, resolution=0.02):\n",
        "\n",
        "    # setup marker generator and color map\n",
        "    markers = ('s', 'x', 'o', '^', 'v')\n",
        "    colors = ('red', 'blue', 'lightgreen', 'gray', 'cyan')\n",
        "    cmap = ListedColormap(colors[:len(np.unique(y))])\n",
        "\n",
        "    # plot the decision surface\n",
        "    x1_min, x1_max = X[:, 0].min() - 1, X[:, 0].max() + 1\n",
        "    x2_min, x2_max = X[:, 1].min() - 1, X[:, 1].max() + 1\n",
        "    xx1, xx2 = np.meshgrid(np.arange(x1_min, x1_max, resolution),\n",
        "                           np.arange(x2_min, x2_max, resolution))\n",
        "    Z = classifier.predict(np.array([xx1.ravel(), xx2.ravel()]).T)\n",
        "    Z = Z.reshape(xx1.shape)\n",
        "    plt.contourf(xx1, xx2, Z, alpha=0.3, cmap=cmap)\n",
        "    plt.xlim(xx1.min(), xx1.max())\n",
        "    plt.ylim(xx2.min(), xx2.max())\n",
        "\n",
        "    for idx, cl in enumerate(np.unique(y)):\n",
        "        plt.scatter(x=X[y == cl, 0], \n",
        "                    y=X[y == cl, 1],\n",
        "                    alpha=0.8, \n",
        "                    color=colors[idx],\n",
        "                    marker=markers[idx], \n",
        "                    label=cl, \n",
        "                    edgecolor='black')\n",
        "\n",
        "    # highlight test examples\n",
        "    if test_idx:\n",
        "        # plot all examples\n",
        "        X_test, y_test = X[test_idx, :], y[test_idx]\n",
        "\n",
        "        \n",
        "        if LooseVersion(matplotlib.__version__) < LooseVersion('0.3.4'):\n",
        "            plt.scatter(X_test[:, 0],\n",
        "                        X_test[:, 1],\n",
        "                        c='',\n",
        "                        edgecolor='black',\n",
        "                        alpha=1.0,\n",
        "                        linewidth=1,\n",
        "                        marker='o',\n",
        "                        s=100, \n",
        "                        label='test set')\n",
        "        else:\n",
        "            plt.scatter(X_test[:, 0],\n",
        "                        X_test[:, 1],\n",
        "                        c='none',\n",
        "                        edgecolor='black',\n",
        "                        alpha=1.0,\n",
        "                        linewidth=1,\n",
        "                        marker='o',\n",
        "                        s=100, \n",
        "                        label='test set')        "
      ],
      "execution_count": null,
      "outputs": []
    },
    {
      "cell_type": "code",
      "metadata": {
        "colab": {
          "base_uri": "https://localhost:8080/",
          "height": 297
        },
        "id": "LunYNW2aqrHT",
        "outputId": "41cf51d8-b642-4fdc-ff50-5ec17b271696"
      },
      "source": [
        "X_combined_std = np.vstack((X_trainS, X_testS))\n",
        "y_combined = np.hstack((y_train, y_test))\n",
        "\n",
        "plot_decision_regions(X=X_combined_std, y=y_combined,\n",
        "                      classifier=ppn, test_idx=range(105, 150))\n",
        "plt.xlabel('petal length [standardized]')\n",
        "plt.ylabel('petal width [standardized]')\n",
        "plt.legend(loc='upper left')\n",
        "\n",
        "plt.tight_layout()\n",
        "#plt.savefig('images/03_01.png', dpi=300)\n",
        "plt.show()"
      ],
      "execution_count": null,
      "outputs": [
        {
          "output_type": "display_data",
          "data": {
            "image/png": "[encoded data removed]",
            "text/plain": [
              "<Figure size 432x288 with 1 Axes>"
            ]
          },
          "metadata": {
            "needs_background": "light"
          }
        }
      ]
    },
    {
      "cell_type": "markdown",
      "metadata": {
        "id": "arE5-ULOq-lB"
      },
      "source": [
        "Regressione logistica (non confodere il nome) e un modello di classificazione enon di regressione\n",
        "viene usata nelle predizioni metereologiche e nella medicina principalmente"
      ]
    },
    {
      "cell_type": "code",
      "metadata": {
        "colab": {
          "base_uri": "https://localhost:8080/"
        },
        "id": "HFuO43xlq1vz",
        "outputId": "c1f1f793-dc9b-4368-e67e-91133ca57f51"
      },
      "source": [
        "from sklearn.linear_model import LogisticRegression\n",
        "lr=LogisticRegression(C=100.0, random_state=1, solver='lbfgs', multi_class='ovr')  #e consigliato usare multi_class=multinomial per classi reciprocamente esaustive come sarebbe iris, uso ovr per vedere come si comporta questo parametro\n",
        "#il parametro solver viene settatto per algoritmi di ottimizzazione, ci sono lbfgs,liblinear,sag e saga\n",
        "\n",
        "lr.fit(X_trainS,y_train)\n",
        "y_pred=lr.predict(X_testS)\n",
        "\n",
        "print('Accuratezza:',lr.score(X_testS,y_test))\n",
        "\n",
        "print('prediciamo la probabilita dei primi 3esempio per l\\'appartenenza ad una classe')\n",
        "print(lr.predict_proba(X_testS[:3,:]))"
      ],
      "execution_count": null,
      "outputs": [
        {
          "output_type": "stream",
          "name": "stdout",
          "text": [
            "Accuratezza: 0.9777777777777777\n",
            "prediciamo la probabilita dei primi 3esempio per l'appartenenza ad una classe\n",
            "[[3.81527885e-09 1.44792866e-01 8.55207131e-01]\n",
            " [8.34020679e-01 1.65979321e-01 3.25737138e-13]\n",
            " [8.48831425e-01 1.51168575e-01 2.62277619e-14]]\n"
          ]
        }
      ]
    },
    {
      "cell_type": "markdown",
      "metadata": {
        "id": "kIerHxGcviP2"
      },
      "source": [
        "SVM (Macchine a Vettori di Supporto) può essere considerato un'estensione del percetron"
      ]
    },
    {
      "cell_type": "code",
      "metadata": {
        "colab": {
          "base_uri": "https://localhost:8080/"
        },
        "id": "IBIlG9utvh2E",
        "outputId": "b90eb0c0-e13b-4f91-c75c-6a29892c7364"
      },
      "source": [
        "from sklearn.svm import SVC\n",
        "svm=SVC(kernel='linear',C=1.0,random_state=)\n",
        "svm.fit(X_trainS,y_train)\n",
        "\n",
        "print('accuratezza:',svm.score(X_testS,y_test))"
      ],
      "execution_count": null,
      "outputs": [
        {
          "output_type": "stream",
          "name": "stdout",
          "text": [
            "accuratezza: 0.9777777777777777\n"
          ]
        }
      ]
    },
    {
      "cell_type": "markdown",
      "metadata": {
        "id": "CAVccxjpzKyZ"
      },
      "source": [
        "Albero Decisionale"
      ]
    },
    {
      "cell_type": "code",
      "metadata": {
        "colab": {
          "base_uri": "https://localhost:8080/",
          "height": 265
        },
        "id": "pHd8-P7-zNHw",
        "outputId": "15d1fd24-e67c-494e-c00e-06bb25c709ed"
      },
      "source": [
        "from sklearn.tree import DecisionTreeClassifier\n",
        "\n",
        "tree_model=DecisionTreeClassifier(criterion='gini',max_depth=4,random_state=1)  #criterio di impurita gini, profondita massima 4\n",
        "tree_model.fit(X_trainS,y_train)\n",
        "\n",
        "print('Accuratezza',tree_model.score(X_testS,y_test))\n",
        "\n",
        "#per visualizzare l'albero\n",
        "from sklearn import tree\n",
        "tree.plot_tree(tree_model)\n",
        "plt.show()"
      ],
      "execution_count": null,
      "outputs": [
        {
          "output_type": "stream",
          "name": "stdout",
          "text": [
            "Accuratezza 0.9777777777777777\n"
          ]
        },
        {
          "output_type": "display_data",
          "data": {
            "image/png": "[encoded data removed]",
            "text/plain": [
              "<Figure size 432x288 with 1 Axes>"
            ]
          },
          "metadata": {
            "needs_background": "light"
          }
        }
      ]
    },
    {
      "cell_type": "markdown",
      "metadata": {
        "id": "AKRDqY0E1IyC"
      },
      "source": [
        "Random Forest miglioria dell'Albero decisionale"
      ]
    },
    {
      "cell_type": "code",
      "metadata": {
        "colab": {
          "base_uri": "https://localhost:8080/"
        },
        "id": "oH0GxC3j1IfF",
        "outputId": "833f89c1-3fee-452d-f12f-8524be104a96"
      },
      "source": [
        "from sklearn.ensemble import RandomForestClassifier\n",
        "forest=RandomForestClassifier(criterion='gini',n_estimators=25,random_state=1,n_jobs=2) #utiliziamo 25 alberi, n_jobs ci serve per indicare il numero di core da utilizzare per paralellizzare la procedura\n",
        "\n",
        "forest.fit(X_trainS,y_train)\n",
        "print('Accuratezza:',forest.score(X_testS,y_test))"
      ],
      "execution_count": null,
      "outputs": [
        {
          "output_type": "stream",
          "name": "stdout",
          "text": [
            "Accuratezza: 0.9777777777777777\n"
          ]
        }
      ]
    },
    {
      "cell_type": "markdown",
      "metadata": {
        "id": "ul8VlKxu3ViM"
      },
      "source": [
        "K-NNun algoritmo di apprendimento pigro"
      ]
    },
    {
      "cell_type": "code",
      "metadata": {
        "colab": {
          "base_uri": "https://localhost:8080/"
        },
        "id": "bhEPlnsz3Zcj",
        "outputId": "959fb8c1-938d-452e-8f52-bebee9fca5a3"
      },
      "source": [
        "from sklearn.neighbors import KNeighborsClassifier\n",
        "knn=KNeighborsClassifier(n_neighbors=5,p=2,metric='minkowski')\n",
        "\n",
        "knn.fit(X_trainS,y_train)\n",
        "print('Accuratezza:',knn.score(X_testS,y_test))"
      ],
      "execution_count": null,
      "outputs": [
        {
          "output_type": "stream",
          "name": "stdout",
          "text": [
            "Accuratezza: 1.0\n"
          ]
        }
      ]
    }
  ]
}