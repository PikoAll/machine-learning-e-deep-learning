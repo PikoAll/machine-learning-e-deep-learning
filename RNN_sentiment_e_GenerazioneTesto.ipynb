{
  "nbformat": 4,
  "nbformat_minor": 0,
  "metadata": {
    "colab": {
      "name": "RNN sentiment e GenerazioneTesto.ipynb",
      "provenance": [],
      "collapsed_sections": [],
      "machine_shape": "hm",
      "authorship_tag": "ABX9TyMBguBXh4eGLbuFyYe5KMrp",
      "include_colab_link": true
    },
    "kernelspec": {
      "name": "python3",
      "display_name": "Python 3"
    },
    "language_info": {
      "name": "python"
    },
    "accelerator": "GPU"
  },
  "cells": [
    {
      "cell_type": "markdown",
      "metadata": {
        "id": "view-in-github",
        "colab_type": "text"
      },
      "source": [
        "<a href=\"https://colab.research.google.com/github/PikoAll/machine-learning-e-deep-learning/blob/main/RNN_sentiment_e_GenerazioneTesto.ipynb\" target=\"_parent\"><img src=\"https://colab.research.google.com/assets/colab-badge.svg\" alt=\"Open In Colab\"/></a>"
      ]
    },
    {
      "cell_type": "markdown",
      "metadata": {
        "id": "7-dPKVpdobG8"
      },
      "source": [
        "RNN,LSTM,TBPTT\n",
        "Dati Sequenziali(importante l'ordine della sequenza)\n",
        "Prevenire azioni nel breve tempo futuro\n",
        "non sara presentato ma le RNN sono utili per creare dei chatBot"
      ]
    },
    {
      "cell_type": "markdown",
      "metadata": {
        "id": "Hp-cEIJaq6XA"
      },
      "source": [
        "predizione del sentiment recensioni film, uso un csv relativo al cap 8"
      ]
    },
    {
      "cell_type": "code",
      "metadata": {
        "colab": {
          "base_uri": "https://localhost:8080/",
          "height": 204
        },
        "id": "UuPrUJthoNLV",
        "outputId": "0ccbf9f9-2654-42c0-9ba4-05b7e320d0a3"
      },
      "source": [
        "import tensorflow as tf\n",
        "import tensorflow_datasets as tfds\n",
        "import numpy as np\n",
        "import pandas as pd\n",
        "\n",
        "df = pd.read_csv('movie_data.csv', encoding='utf-8')\n",
        "\n",
        "df.tail()"
      ],
      "execution_count": null,
      "outputs": [
        {
          "output_type": "execute_result",
          "data": {
            "text/html": [
              "<div>\n",
              "<style scoped>\n",
              "    .dataframe tbody tr th:only-of-type {\n",
              "        vertical-align: middle;\n",
              "    }\n",
              "\n",
              "    .dataframe tbody tr th {\n",
              "        vertical-align: top;\n",
              "    }\n",
              "\n",
              "    .dataframe thead th {\n",
              "        text-align: right;\n",
              "    }\n",
              "</style>\n",
              "<table border=\"1\" class=\"dataframe\">\n",
              "  <thead>\n",
              "    <tr style=\"text-align: right;\">\n",
              "      <th></th>\n",
              "      <th>review</th>\n",
              "      <th>sentiment</th>\n",
              "    </tr>\n",
              "  </thead>\n",
              "  <tbody>\n",
              "    <tr>\n",
              "      <th>49995</th>\n",
              "      <td>OK, lets start with the best. the building. al...</td>\n",
              "      <td>0</td>\n",
              "    </tr>\n",
              "    <tr>\n",
              "      <th>49996</th>\n",
              "      <td>The British 'heritage film' industry is out of...</td>\n",
              "      <td>0</td>\n",
              "    </tr>\n",
              "    <tr>\n",
              "      <th>49997</th>\n",
              "      <td>I don't even know where to begin on this one. ...</td>\n",
              "      <td>0</td>\n",
              "    </tr>\n",
              "    <tr>\n",
              "      <th>49998</th>\n",
              "      <td>Richard Tyler is a little boy who is scared of...</td>\n",
              "      <td>0</td>\n",
              "    </tr>\n",
              "    <tr>\n",
              "      <th>49999</th>\n",
              "      <td>I waited long to watch this movie. Also becaus...</td>\n",
              "      <td>1</td>\n",
              "    </tr>\n",
              "  </tbody>\n",
              "</table>\n",
              "</div>"
            ],
            "text/plain": [
              "                                                  review  sentiment\n",
              "49995  OK, lets start with the best. the building. al...          0\n",
              "49996  The British 'heritage film' industry is out of...          0\n",
              "49997  I don't even know where to begin on this one. ...          0\n",
              "49998  Richard Tyler is a little boy who is scared of...          0\n",
              "49999  I waited long to watch this movie. Also becaus...          1"
            ]
          },
          "metadata": {},
          "execution_count": 2
        }
      ]
    },
    {
      "cell_type": "markdown",
      "metadata": {
        "id": "YfqLgIbSPWY0"
      },
      "source": [
        "Creazione del dataset"
      ]
    },
    {
      "cell_type": "code",
      "metadata": {
        "colab": {
          "base_uri": "https://localhost:8080/"
        },
        "id": "rTcVK28Svmp6",
        "outputId": "95e56b39-8f65-4356-d1ab-493ae412cedf"
      },
      "source": [
        "target=df.pop('sentiment')\n",
        "print(target.head())"
      ],
      "execution_count": null,
      "outputs": [
        {
          "output_type": "stream",
          "name": "stdout",
          "text": [
            "0    1\n",
            "1    0\n",
            "2    0\n",
            "3    1\n",
            "4    0\n",
            "Name: sentiment, dtype: int64\n"
          ]
        }
      ]
    },
    {
      "cell_type": "code",
      "metadata": {
        "colab": {
          "base_uri": "https://localhost:8080/"
        },
        "id": "owgNEsWVPxrt",
        "outputId": "f34103b4-957e-4485-ca61-6d5563e66c9f"
      },
      "source": [
        "ds_raw=tf.data.Dataset.from_tensor_slices((df.values,target.values))  #dovrebbe essere la creazione del dataset in modalita tensorflow diciamo forse\n",
        "\n",
        "for ex in ds_raw.take(3):\n",
        "  tf.print(ex[0].numpy()[0][:50],ex[1])"
      ],
      "execution_count": null,
      "outputs": [
        {
          "output_type": "stream",
          "name": "stdout",
          "text": [
            "b'In 1974, the teenager Martha Moxley (Maggie Grace)' 1\n",
            "b'OK... so... I really like Kris Kristofferson and h' 0\n",
            "b'***SPOILER*** Do not read this, if you think about' 0\n"
          ]
        }
      ]
    },
    {
      "cell_type": "markdown",
      "metadata": {
        "id": "t71sDcJiRJdX"
      },
      "source": [
        "creo il dataset di test train e convalida"
      ]
    },
    {
      "cell_type": "code",
      "metadata": {
        "id": "J1O5NN7WRGRP"
      },
      "source": [
        "tf.random.set_seed(1)\n",
        "ds_raw=ds_raw.shuffle(50000,reshuffle_each_iteration=False)#mischiamo tutto il dataset 50000 poiche ha 50000 righe\n",
        "\n",
        "ds_raw_test = ds_raw.take(25000)\n",
        "ds_raw_train_valid = ds_raw.skip(25000)\n",
        "ds_raw_train = ds_raw_train_valid.take(20000)\n",
        "ds_raw_valid = ds_raw_train_valid.skip(20000)"
      ],
      "execution_count": null,
      "outputs": []
    },
    {
      "cell_type": "markdown",
      "metadata": {
        "id": "0ViovRndR4Uo"
      },
      "source": [
        "ora codifichiamo le parole in numeri, ciascuna parola avra un numero"
      ]
    },
    {
      "cell_type": "code",
      "metadata": {
        "colab": {
          "base_uri": "https://localhost:8080/"
        },
        "id": "gYm0eKeoR-KV",
        "outputId": "50eb2419-0bc3-47f8-e831-db98d220dd6c"
      },
      "source": [
        "from collections import Counter\n",
        "\n",
        "try:\n",
        "    tokenizer = tfds.features.text.Tokenizer()\n",
        "except AttributeError:\n",
        "    tokenizer = tfds.deprecated.text.Tokenizer()\n",
        "\n",
        "token_count=Counter()\n",
        "\n",
        "for i in ds_raw_train:\n",
        "  tokens=tokenizer.tokenize(i[0].numpy()[0])\n",
        "  token_count.update(tokens)\n",
        "\n",
        "print('dimensione vocabolo:',len(token_count))"
      ],
      "execution_count": null,
      "outputs": [
        {
          "output_type": "stream",
          "name": "stdout",
          "text": [
            "dimensione vocabolo: 87007\n"
          ]
        }
      ]
    },
    {
      "cell_type": "markdown",
      "metadata": {
        "id": "hlQpQYAsTSZb"
      },
      "source": [
        "creo un dizionario "
      ]
    },
    {
      "cell_type": "code",
      "metadata": {
        "colab": {
          "base_uri": "https://localhost:8080/"
        },
        "id": "Ran1ZD9uTVB4",
        "outputId": "e1f3d4e2-4e36-4d3c-eed5-e1ea43cdcc8c"
      },
      "source": [
        "## Step 3: encoding each unique token into integers\n",
        "\n",
        "try:\n",
        "    encoder = tfds.features.text.TokenTextEncoder(token_count)\n",
        "except AttributeError:\n",
        "    encoder = tfds.deprecated.text.TokenTextEncoder(token_count)\n",
        "\n",
        "example_str = 'This is an example!'\n",
        "encoder.encode(example_str)"
      ],
      "execution_count": null,
      "outputs": [
        {
          "output_type": "execute_result",
          "data": {
            "text/plain": [
              "[232, 9, 270, 1123]"
            ]
          },
          "metadata": {},
          "execution_count": 7
        }
      ]
    },
    {
      "cell_type": "code",
      "metadata": {
        "id": "wRpzlL0RT2q3"
      },
      "source": [
        "## Step 3-A: define the function for transformation\n",
        "\n",
        "def encode(text_tensor, label):\n",
        "    text = text_tensor.numpy()[0]\n",
        "    encoded_text = encoder.encode(text)\n",
        "    return encoded_text, label\n",
        "\n",
        "## Step 3-B: wrap the encode function to a TF Op.\n",
        "def encode_map_fn(text, label):\n",
        "    return tf.py_function(encode, inp=[text, label], \n",
        "                          Tout=(tf.int64, tf.int64))"
      ],
      "execution_count": null,
      "outputs": []
    },
    {
      "cell_type": "code",
      "metadata": {
        "colab": {
          "base_uri": "https://localhost:8080/"
        },
        "id": "lgLX012oT7cs",
        "outputId": "868ad631-1e72-4ab4-9d0a-488ceb8b6a80"
      },
      "source": [
        "ds_train = ds_raw_train.map(encode_map_fn)\n",
        "ds_valid = ds_raw_valid.map(encode_map_fn)\n",
        "ds_test = ds_raw_test.map(encode_map_fn)\n",
        "\n",
        "tf.random.set_seed(1)\n",
        "for example in ds_train.shuffle(1000).take(5):\n",
        "    print('Sequence length:', example[0].shape)\n",
        "    \n",
        "example"
      ],
      "execution_count": null,
      "outputs": [
        {
          "output_type": "stream",
          "name": "stdout",
          "text": [
            "Sequence length: (24,)\n",
            "Sequence length: (179,)\n",
            "Sequence length: (262,)\n",
            "Sequence length: (535,)\n",
            "Sequence length: (130,)\n"
          ]
        },
        {
          "output_type": "execute_result",
          "data": {
            "text/plain": [
              "(<tf.Tensor: shape=(130,), dtype=int64, numpy=\n",
              " array([  579,  1296,    32,   425,    40,   763,  9267,    65,   280,\n",
              "          308,     6,   481,   155,   473,     2,     3,   684,     9,\n",
              "          781,   176,   959,   730,  3917,    67,  9905,    13,   277,\n",
              "           24,    35,   371, 16368,     6,    14, 17231,    29,   187,\n",
              "         1651,   489,   503,   480,   143,    32,   270,  5851,  2402,\n",
              "           13,  3592,  3443,   425,  3313,   256,   257,  1577,   117,\n",
              "            8,   698,   270,   564,    56,     8,    42,  7517,  2629,\n",
              "          820,    25,    60,    79,   343,    32,   645,    14,   528,\n",
              "          241,    32,  1980,     8,    56,     8,    42,  1364,   573,\n",
              "         5183,    43,    12,  3870,    32,   312,   642,   251,  1401,\n",
              "        17232,     8,   698,   257,   750,     2,     9,    76,   235,\n",
              "            8,    42,   235,   840,   666,   258, 17233,   419,    32,\n",
              "        17234,   585,   420,   840,    25,    40,    13,    14,   198,\n",
              "          266,   623,   173,   179,  4103,   216,    25,   616, 14185,\n",
              "          186,    35, 16250,   120])>,\n",
              " <tf.Tensor: shape=(), dtype=int64, numpy=0>)"
            ]
          },
          "metadata": {},
          "execution_count": 9
        }
      ]
    },
    {
      "cell_type": "markdown",
      "metadata": {
        "id": "U_6nPKHvUIlk"
      },
      "source": [
        "Finora abbiamo convertito sequanze di parole in numeri interi, ora bisogna settare una lunghezza uguale a tutte le frasi per poterli gestire meglio nel tensore"
      ]
    },
    {
      "cell_type": "code",
      "metadata": {
        "colab": {
          "base_uri": "https://localhost:8080/"
        },
        "id": "CCsc8I0rUINa",
        "outputId": "b0736c7c-9b20-46cc-c080-59877eae05d0"
      },
      "source": [
        "\n",
        "ds_subset = ds_train.take(8)\n",
        "for example in ds_subset:\n",
        "    print('Individual size:', example[0].shape)\n",
        "\n",
        "## batching the datasets\n",
        "ds_batched = ds_subset.padded_batch(\n",
        "    4, padded_shapes=([-1], []))\n",
        "\n",
        "for batch in ds_batched:\n",
        "    print('Batch dimension:', batch[0].shape)"
      ],
      "execution_count": null,
      "outputs": [
        {
          "output_type": "stream",
          "name": "stdout",
          "text": [
            "Individual size: (119,)\n",
            "Individual size: (688,)\n",
            "Individual size: (308,)\n",
            "Individual size: (204,)\n",
            "Individual size: (326,)\n",
            "Individual size: (240,)\n",
            "Individual size: (127,)\n",
            "Individual size: (453,)\n",
            "Batch dimension: (4, 688)\n",
            "Batch dimension: (4, 453)\n"
          ]
        }
      ]
    },
    {
      "cell_type": "markdown",
      "metadata": {
        "id": "2pQ49W-vVAU9"
      },
      "source": [
        "divisione in mini-batch"
      ]
    },
    {
      "cell_type": "code",
      "metadata": {
        "id": "2Ty8YRVaVD8C"
      },
      "source": [
        "train_data = ds_train.padded_batch(\n",
        "    32, padded_shapes=([-1],[]))\n",
        "\n",
        "valid_data = ds_valid.padded_batch(\n",
        "    32, padded_shapes=([-1],[]))\n",
        "\n",
        "test_data = ds_test.padded_batch(\n",
        "    32, padded_shapes=([-1],[]))"
      ],
      "execution_count": null,
      "outputs": []
    },
    {
      "cell_type": "markdown",
      "metadata": {
        "id": "hdtVXSNeVvsy"
      },
      "source": [
        "IMPLEMENTAZIONE SimpleRNN"
      ]
    },
    {
      "cell_type": "code",
      "metadata": {
        "colab": {
          "base_uri": "https://localhost:8080/"
        },
        "id": "Cx6ife6kXjAN",
        "outputId": "fa11f89f-894d-486d-9b9e-69f4985cc60e"
      },
      "source": [
        "\n",
        "from tensorflow.keras import Sequential\n",
        "from tensorflow.keras.layers import Embedding\n",
        "from tensorflow.keras.layers import SimpleRNN\n",
        "from tensorflow.keras.layers import Dense\n",
        "\n",
        "model = Sequential()\n",
        "model.add(Embedding(1000, 32))\n",
        "model.add(SimpleRNN(32, return_sequences=True))\n",
        "model.add(SimpleRNN(32))\n",
        "model.add(Dense(1))\n",
        "model.summary()"
      ],
      "execution_count": null,
      "outputs": [
        {
          "output_type": "stream",
          "name": "stdout",
          "text": [
            "Model: \"sequential\"\n",
            "_________________________________________________________________\n",
            "Layer (type)                 Output Shape              Param #   \n",
            "=================================================================\n",
            "embedding (Embedding)        (None, None, 32)          32000     \n",
            "_________________________________________________________________\n",
            "simple_rnn (SimpleRNN)       (None, None, 32)          2080      \n",
            "_________________________________________________________________\n",
            "simple_rnn_1 (SimpleRNN)     (None, 32)                2080      \n",
            "_________________________________________________________________\n",
            "dense (Dense)                (None, 1)                 33        \n",
            "=================================================================\n",
            "Total params: 36,193\n",
            "Trainable params: 36,193\n",
            "Non-trainable params: 0\n",
            "_________________________________________________________________\n"
          ]
        }
      ]
    },
    {
      "cell_type": "markdown",
      "metadata": {
        "id": "LEW2cQpGYaiK"
      },
      "source": [
        "Varie alternative di modelli RNN"
      ]
    },
    {
      "cell_type": "code",
      "metadata": {
        "colab": {
          "base_uri": "https://localhost:8080/",
          "height": 52
        },
        "id": "GUftfoHdXrHX",
        "outputId": "d9469231-e703-4298-decf-0b79a9d0f1fa"
      },
      "source": [
        "'''\n",
        "\n",
        "from tensorflow.keras.layers import LSTM\n",
        "\n",
        "\n",
        "model = Sequential()\n",
        "model.add(Embedding(10000, 32))\n",
        "model.add(LSTM(32, return_sequences=True))\n",
        "model.add(LSTM(32))\n",
        "model.add(Dense(1))\n",
        "model.summary()\n",
        "\n",
        "\n",
        "from tensorflow.keras.layers import GRU\n",
        "\n",
        "model = Sequential()\n",
        "model.add(Embedding(10000, 32))\n",
        "model.add(GRU(32, return_sequences=True))\n",
        "model.add(GRU(32))\n",
        "model.add(Dense(1))\n",
        "model.summary()\n",
        "\n",
        "'''"
      ],
      "execution_count": null,
      "outputs": [
        {
          "output_type": "execute_result",
          "data": {
            "application/vnd.google.colaboratory.intrinsic+json": {
              "type": "string"
            },
            "text/plain": [
              "'\\n\\nfrom tensorflow.keras.layers import LSTM\\n\\n\\nmodel = Sequential()\\nmodel.add(Embedding(10000, 32))\\nmodel.add(LSTM(32, return_sequences=True))\\nmodel.add(LSTM(32))\\nmodel.add(Dense(1))\\nmodel.summary()\\n\\n\\nfrom tensorflow.keras.layers import GRU\\n\\nmodel = Sequential()\\nmodel.add(Embedding(10000, 32))\\nmodel.add(GRU(32, return_sequences=True))\\nmodel.add(GRU(32))\\nmodel.add(Dense(1))\\nmodel.summary()\\n\\n'"
            ]
          },
          "metadata": {},
          "execution_count": 13
        }
      ]
    },
    {
      "cell_type": "code",
      "metadata": {
        "colab": {
          "base_uri": "https://localhost:8080/",
          "height": 748
        },
        "id": "npEO5pPhYllm",
        "outputId": "6933c097-6f08-48c3-8b80-4d014d62ba22"
      },
      "source": [
        "embedding_dim = 20\n",
        "vocab_size = len(token_count) + 2\n",
        "\n",
        "tf.random.set_seed(1)\n",
        "\n",
        "## build the model\n",
        "bi_lstm_model = tf.keras.Sequential([\n",
        "    tf.keras.layers.Embedding(\n",
        "        input_dim=vocab_size,\n",
        "        output_dim=embedding_dim,\n",
        "        name='embed-layer'),\n",
        "    \n",
        "    tf.keras.layers.Bidirectional(\n",
        "        tf.keras.layers.LSTM(64, name='lstm-layer'),\n",
        "        name='bidir-lstm'), \n",
        "\n",
        "    tf.keras.layers.Dense(64, activation='relu'),\n",
        "    \n",
        "    tf.keras.layers.Dense(1, activation='sigmoid')\n",
        "])\n",
        "\n",
        "bi_lstm_model.summary()\n",
        "\n",
        "#------------------------------------------------------------------\n",
        "## compile and train:\n",
        "bi_lstm_model.compile(\n",
        "    optimizer=tf.keras.optimizers.Adam(1e-3),\n",
        "    loss=tf.keras.losses.BinaryCrossentropy(from_logits=False),\n",
        "    metrics=['accuracy'])\n",
        "\n",
        "history = bi_lstm_model.fit(\n",
        "    train_data, \n",
        "    validation_data=valid_data, \n",
        "    epochs=10)\n",
        "\n",
        "## evaluate on the test data\n",
        "test_results= bi_lstm_model.evaluate(test_data)\n",
        "print('Test Acc.: {:.2f}%'.format(test_results[1]*100))"
      ],
      "execution_count": null,
      "outputs": [
        {
          "output_type": "stream",
          "name": "stdout",
          "text": [
            "Model: \"sequential_1\"\n",
            "_________________________________________________________________\n",
            "Layer (type)                 Output Shape              Param #   \n",
            "=================================================================\n",
            "embed-layer (Embedding)      (None, None, 20)          1740180   \n",
            "_________________________________________________________________\n",
            "bidir-lstm (Bidirectional)   (None, 128)               43520     \n",
            "_________________________________________________________________\n",
            "dense_1 (Dense)              (None, 64)                8256      \n",
            "_________________________________________________________________\n",
            "dense_2 (Dense)              (None, 1)                 65        \n",
            "=================================================================\n",
            "Total params: 1,792,021\n",
            "Trainable params: 1,792,021\n",
            "Non-trainable params: 0\n",
            "_________________________________________________________________\n",
            "Epoch 1/10\n",
            "625/625 [==============================] - 76s 110ms/step - loss: 0.5263 - accuracy: 0.7347 - val_loss: 0.4411 - val_accuracy: 0.8092\n",
            "Epoch 2/10\n",
            "625/625 [==============================] - 68s 109ms/step - loss: 0.2748 - accuracy: 0.8964 - val_loss: 0.3695 - val_accuracy: 0.8546\n",
            "Epoch 3/10\n",
            " 78/625 [==>...........................] - ETA: 52s - loss: 0.2909 - accuracy: 0.8858"
          ]
        },
        {
          "output_type": "error",
          "ename": "KeyboardInterrupt",
          "evalue": "ignored",
          "traceback": [
            "\u001b[0;31m---------------------------------------------------------------------------\u001b[0m",
            "\u001b[0;31mKeyboardInterrupt\u001b[0m                         Traceback (most recent call last)",
            "\u001b[0;32m<ipython-input-14-313ea2de890e>\u001b[0m in \u001b[0;36m<module>\u001b[0;34m()\u001b[0m\n\u001b[1;32m     32\u001b[0m     \u001b[0mtrain_data\u001b[0m\u001b[0;34m,\u001b[0m\u001b[0;34m\u001b[0m\u001b[0;34m\u001b[0m\u001b[0m\n\u001b[1;32m     33\u001b[0m     \u001b[0mvalidation_data\u001b[0m\u001b[0;34m=\u001b[0m\u001b[0mvalid_data\u001b[0m\u001b[0;34m,\u001b[0m\u001b[0;34m\u001b[0m\u001b[0;34m\u001b[0m\u001b[0m\n\u001b[0;32m---> 34\u001b[0;31m     epochs=10)\n\u001b[0m\u001b[1;32m     35\u001b[0m \u001b[0;34m\u001b[0m\u001b[0m\n\u001b[1;32m     36\u001b[0m \u001b[0;31m## evaluate on the test data\u001b[0m\u001b[0;34m\u001b[0m\u001b[0;34m\u001b[0m\u001b[0;34m\u001b[0m\u001b[0m\n",
            "\u001b[0;32m/usr/local/lib/python3.7/dist-packages/keras/engine/training.py\u001b[0m in \u001b[0;36mfit\u001b[0;34m(self, x, y, batch_size, epochs, verbose, callbacks, validation_split, validation_data, shuffle, class_weight, sample_weight, initial_epoch, steps_per_epoch, validation_steps, validation_batch_size, validation_freq, max_queue_size, workers, use_multiprocessing)\u001b[0m\n\u001b[1;32m   1182\u001b[0m                 _r=1):\n\u001b[1;32m   1183\u001b[0m               \u001b[0mcallbacks\u001b[0m\u001b[0;34m.\u001b[0m\u001b[0mon_train_batch_begin\u001b[0m\u001b[0;34m(\u001b[0m\u001b[0mstep\u001b[0m\u001b[0;34m)\u001b[0m\u001b[0;34m\u001b[0m\u001b[0;34m\u001b[0m\u001b[0m\n\u001b[0;32m-> 1184\u001b[0;31m               \u001b[0mtmp_logs\u001b[0m \u001b[0;34m=\u001b[0m \u001b[0mself\u001b[0m\u001b[0;34m.\u001b[0m\u001b[0mtrain_function\u001b[0m\u001b[0;34m(\u001b[0m\u001b[0miterator\u001b[0m\u001b[0;34m)\u001b[0m\u001b[0;34m\u001b[0m\u001b[0;34m\u001b[0m\u001b[0m\n\u001b[0m\u001b[1;32m   1185\u001b[0m               \u001b[0;32mif\u001b[0m \u001b[0mdata_handler\u001b[0m\u001b[0;34m.\u001b[0m\u001b[0mshould_sync\u001b[0m\u001b[0;34m:\u001b[0m\u001b[0;34m\u001b[0m\u001b[0;34m\u001b[0m\u001b[0m\n\u001b[1;32m   1186\u001b[0m                 \u001b[0mcontext\u001b[0m\u001b[0;34m.\u001b[0m\u001b[0masync_wait\u001b[0m\u001b[0;34m(\u001b[0m\u001b[0;34m)\u001b[0m\u001b[0;34m\u001b[0m\u001b[0;34m\u001b[0m\u001b[0m\n",
            "\u001b[0;32m/usr/local/lib/python3.7/dist-packages/tensorflow/python/eager/def_function.py\u001b[0m in \u001b[0;36m__call__\u001b[0;34m(self, *args, **kwds)\u001b[0m\n\u001b[1;32m    883\u001b[0m \u001b[0;34m\u001b[0m\u001b[0m\n\u001b[1;32m    884\u001b[0m       \u001b[0;32mwith\u001b[0m \u001b[0mOptionalXlaContext\u001b[0m\u001b[0;34m(\u001b[0m\u001b[0mself\u001b[0m\u001b[0;34m.\u001b[0m\u001b[0m_jit_compile\u001b[0m\u001b[0;34m)\u001b[0m\u001b[0;34m:\u001b[0m\u001b[0;34m\u001b[0m\u001b[0;34m\u001b[0m\u001b[0m\n\u001b[0;32m--> 885\u001b[0;31m         \u001b[0mresult\u001b[0m \u001b[0;34m=\u001b[0m \u001b[0mself\u001b[0m\u001b[0;34m.\u001b[0m\u001b[0m_call\u001b[0m\u001b[0;34m(\u001b[0m\u001b[0;34m*\u001b[0m\u001b[0margs\u001b[0m\u001b[0;34m,\u001b[0m \u001b[0;34m**\u001b[0m\u001b[0mkwds\u001b[0m\u001b[0;34m)\u001b[0m\u001b[0;34m\u001b[0m\u001b[0;34m\u001b[0m\u001b[0m\n\u001b[0m\u001b[1;32m    886\u001b[0m \u001b[0;34m\u001b[0m\u001b[0m\n\u001b[1;32m    887\u001b[0m       \u001b[0mnew_tracing_count\u001b[0m \u001b[0;34m=\u001b[0m \u001b[0mself\u001b[0m\u001b[0;34m.\u001b[0m\u001b[0mexperimental_get_tracing_count\u001b[0m\u001b[0;34m(\u001b[0m\u001b[0;34m)\u001b[0m\u001b[0;34m\u001b[0m\u001b[0;34m\u001b[0m\u001b[0m\n",
            "\u001b[0;32m/usr/local/lib/python3.7/dist-packages/tensorflow/python/eager/def_function.py\u001b[0m in \u001b[0;36m_call\u001b[0;34m(self, *args, **kwds)\u001b[0m\n\u001b[1;32m    915\u001b[0m       \u001b[0;31m# In this case we have created variables on the first call, so we run the\u001b[0m\u001b[0;34m\u001b[0m\u001b[0;34m\u001b[0m\u001b[0;34m\u001b[0m\u001b[0m\n\u001b[1;32m    916\u001b[0m       \u001b[0;31m# defunned version which is guaranteed to never create variables.\u001b[0m\u001b[0;34m\u001b[0m\u001b[0;34m\u001b[0m\u001b[0;34m\u001b[0m\u001b[0m\n\u001b[0;32m--> 917\u001b[0;31m       \u001b[0;32mreturn\u001b[0m \u001b[0mself\u001b[0m\u001b[0;34m.\u001b[0m\u001b[0m_stateless_fn\u001b[0m\u001b[0;34m(\u001b[0m\u001b[0;34m*\u001b[0m\u001b[0margs\u001b[0m\u001b[0;34m,\u001b[0m \u001b[0;34m**\u001b[0m\u001b[0mkwds\u001b[0m\u001b[0;34m)\u001b[0m  \u001b[0;31m# pylint: disable=not-callable\u001b[0m\u001b[0;34m\u001b[0m\u001b[0;34m\u001b[0m\u001b[0m\n\u001b[0m\u001b[1;32m    918\u001b[0m     \u001b[0;32melif\u001b[0m \u001b[0mself\u001b[0m\u001b[0;34m.\u001b[0m\u001b[0m_stateful_fn\u001b[0m \u001b[0;32mis\u001b[0m \u001b[0;32mnot\u001b[0m \u001b[0;32mNone\u001b[0m\u001b[0;34m:\u001b[0m\u001b[0;34m\u001b[0m\u001b[0;34m\u001b[0m\u001b[0m\n\u001b[1;32m    919\u001b[0m       \u001b[0;31m# Release the lock early so that multiple threads can perform the call\u001b[0m\u001b[0;34m\u001b[0m\u001b[0;34m\u001b[0m\u001b[0;34m\u001b[0m\u001b[0m\n",
            "\u001b[0;32m/usr/local/lib/python3.7/dist-packages/tensorflow/python/eager/function.py\u001b[0m in \u001b[0;36m__call__\u001b[0;34m(self, *args, **kwargs)\u001b[0m\n\u001b[1;32m   3038\u001b[0m        filtered_flat_args) = self._maybe_define_function(args, kwargs)\n\u001b[1;32m   3039\u001b[0m     return graph_function._call_flat(\n\u001b[0;32m-> 3040\u001b[0;31m         filtered_flat_args, captured_inputs=graph_function.captured_inputs)  # pylint: disable=protected-access\n\u001b[0m\u001b[1;32m   3041\u001b[0m \u001b[0;34m\u001b[0m\u001b[0m\n\u001b[1;32m   3042\u001b[0m   \u001b[0;34m@\u001b[0m\u001b[0mproperty\u001b[0m\u001b[0;34m\u001b[0m\u001b[0;34m\u001b[0m\u001b[0m\n",
            "\u001b[0;32m/usr/local/lib/python3.7/dist-packages/tensorflow/python/eager/function.py\u001b[0m in \u001b[0;36m_call_flat\u001b[0;34m(self, args, captured_inputs, cancellation_manager)\u001b[0m\n\u001b[1;32m   1962\u001b[0m       \u001b[0;31m# No tape is watching; skip to running the function.\u001b[0m\u001b[0;34m\u001b[0m\u001b[0;34m\u001b[0m\u001b[0;34m\u001b[0m\u001b[0m\n\u001b[1;32m   1963\u001b[0m       return self._build_call_outputs(self._inference_function.call(\n\u001b[0;32m-> 1964\u001b[0;31m           ctx, args, cancellation_manager=cancellation_manager))\n\u001b[0m\u001b[1;32m   1965\u001b[0m     forward_backward = self._select_forward_and_backward_functions(\n\u001b[1;32m   1966\u001b[0m         \u001b[0margs\u001b[0m\u001b[0;34m,\u001b[0m\u001b[0;34m\u001b[0m\u001b[0;34m\u001b[0m\u001b[0m\n",
            "\u001b[0;32m/usr/local/lib/python3.7/dist-packages/tensorflow/python/eager/function.py\u001b[0m in \u001b[0;36mcall\u001b[0;34m(self, ctx, args, cancellation_manager)\u001b[0m\n\u001b[1;32m    594\u001b[0m               \u001b[0minputs\u001b[0m\u001b[0;34m=\u001b[0m\u001b[0margs\u001b[0m\u001b[0;34m,\u001b[0m\u001b[0;34m\u001b[0m\u001b[0;34m\u001b[0m\u001b[0m\n\u001b[1;32m    595\u001b[0m               \u001b[0mattrs\u001b[0m\u001b[0;34m=\u001b[0m\u001b[0mattrs\u001b[0m\u001b[0;34m,\u001b[0m\u001b[0;34m\u001b[0m\u001b[0;34m\u001b[0m\u001b[0m\n\u001b[0;32m--> 596\u001b[0;31m               ctx=ctx)\n\u001b[0m\u001b[1;32m    597\u001b[0m         \u001b[0;32melse\u001b[0m\u001b[0;34m:\u001b[0m\u001b[0;34m\u001b[0m\u001b[0;34m\u001b[0m\u001b[0m\n\u001b[1;32m    598\u001b[0m           outputs = execute.execute_with_cancellation(\n",
            "\u001b[0;32m/usr/local/lib/python3.7/dist-packages/tensorflow/python/eager/execute.py\u001b[0m in \u001b[0;36mquick_execute\u001b[0;34m(op_name, num_outputs, inputs, attrs, ctx, name)\u001b[0m\n\u001b[1;32m     58\u001b[0m     \u001b[0mctx\u001b[0m\u001b[0;34m.\u001b[0m\u001b[0mensure_initialized\u001b[0m\u001b[0;34m(\u001b[0m\u001b[0;34m)\u001b[0m\u001b[0;34m\u001b[0m\u001b[0;34m\u001b[0m\u001b[0m\n\u001b[1;32m     59\u001b[0m     tensors = pywrap_tfe.TFE_Py_Execute(ctx._handle, device_name, op_name,\n\u001b[0;32m---> 60\u001b[0;31m                                         inputs, attrs, num_outputs)\n\u001b[0m\u001b[1;32m     61\u001b[0m   \u001b[0;32mexcept\u001b[0m \u001b[0mcore\u001b[0m\u001b[0;34m.\u001b[0m\u001b[0m_NotOkStatusException\u001b[0m \u001b[0;32mas\u001b[0m \u001b[0me\u001b[0m\u001b[0;34m:\u001b[0m\u001b[0;34m\u001b[0m\u001b[0;34m\u001b[0m\u001b[0m\n\u001b[1;32m     62\u001b[0m     \u001b[0;32mif\u001b[0m \u001b[0mname\u001b[0m \u001b[0;32mis\u001b[0m \u001b[0;32mnot\u001b[0m \u001b[0;32mNone\u001b[0m\u001b[0;34m:\u001b[0m\u001b[0;34m\u001b[0m\u001b[0;34m\u001b[0m\u001b[0m\n",
            "\u001b[0;31mKeyboardInterrupt\u001b[0m: "
          ]
        }
      ]
    },
    {
      "cell_type": "markdown",
      "metadata": {
        "id": "79Hy0w5NZ7Dq"
      },
      "source": [
        "#Modellazione del linguaggio naturale Do in input un testo e lui me ne genera uno simile\n",
        "parliamo di generazione di testo e non comprensione del linguaggio che si fara dopo"
      ]
    },
    {
      "cell_type": "markdown",
      "metadata": {
        "id": "Mho1hsBaakhO"
      },
      "source": [
        "Ho scaricato in locale un libro in italiano in formato txt che ora carichero"
      ]
    },
    {
      "cell_type": "code",
      "metadata": {
        "colab": {
          "base_uri": "https://localhost:8080/"
        },
        "id": "I8iibDlHcOt0",
        "outputId": "76779dcc-b158-4de5-f70f-59b984b18598"
      },
      "source": [
        "with open('/content/TestoRNN','r') as fp:\n",
        "  text=fp.read()\n",
        "\n",
        "print(text)"
      ],
      "execution_count": null,
      "outputs": [
        {
          "output_type": "stream",
          "name": "stdout",
          "text": [
            "Chi esamina per la prima volta il complesso e meraviglioso sviluppo del pensiero scientifico nel corso della storia, è facilmente portato a fissare la sua attenzione sui nomi di alcuni grandissimi pensatori. Questi, sembra, hanno creato di colpo le singole scienze od alcune loro particolari discipline; questi, ad un determinato stadio di esse, le hanno, con la forza del loro genio, incamminate su vie nuove e maggiormente feconde. La storia della scienza, in questo modo, apparisce quasi una storia di eroi.\n",
            "Un esame più approfondito, invece, e specialmente lo studio accurato della letteratura scientifica, distrugge ben presto questa visione, che potrei dire alla Carlyle. Gli eroi rimangono, è vero, ma apparisce e si mostra, determinante ed essenziale, il lavoro più modesto, spesse volte anonimo, della collettività. Quelli, gli eroi, ci appariscono allora piuttosto come indici del loro tempo, come fiumi fatti impetuosi e potenti dall’indispensabile concorso di numerosi rigagnoli, come menti nelle quali le idee, le ispirazioni, le vaghe intuizioni dei loro contemporanei, si collegano, si organizzano, si esplicano. E, sopratutto, come giustamente ci afferma Wilhelm Ostwald, i grandi genî scientifici ci si mostrano come potenti organizzatori.\n",
            "Quelli stessi, infatti, che hanno avuto i più grandi lampi di intuizioni, ed hanno divinato leggi, concetti, esperienze, in tempi successivi saliti al grado di leit-motiv della scienza dell’epoca, sarebbero rimasti precursori misconosciuti ed ignorati, se la loro scoperta, infeconda, non aleggiava nello spirito contemporaneo, se la loro mente, profetica, non era capace di riunire, fondere e promuovere le conoscenze del tempo. Solamente nell’epoca propizia sono così giunti i grandi creatori e riformatori, ed è da credere che, nella maggior parte dei casi, la mancanza di uno degli eroi della storia non avrebbe portato ad un molto diverso andamento nello svolgimento del pensiero, ma solo ad un suo più o meno lungo ritardo.\n",
            "Ma la storia, che si è dapprima orientata sempre dai fari più luminosi, dai picchi più alti, ha incominciato a conoscere, ad apprezzare, a sopravalutare gli eroi. Ha fatto di Galileo il creatore della dinamica, di Newton quello della meccanica celeste, di Lamarck e Darwin quelli dell’evoluzionismo biologico, di Lavoisier quello della chimica. Ed a proposito di quest’ultimo non sono mancati gli apologisti, spinti da un eccessivo nazionalismo, che hanno gridato: «La chimie est une science française, elle fut constituée par Lavoisier d’immortelle mémoire» (Wurtz).\n",
            "Ma dopo un primo periodo di esaltazione degli eroi, con l’estendersi della ricerca metodica ed accurata, sorge il momento nel quale s’incominciano a riconoscere i precursori; gli immediati, i collaboratori quasi del genio, e gli antichi, i lontani, i dimenticati. E dall’esaltazione del grande, quasi, si passa per una incosciente tendenza al contrasto, all’apologia di quelli che lo hanno preceduto; questi si elevano alle stelle, quegli quasi rimane negletto o viene accusato di plagio. Anche qui, dunque, il metodo di riconoscere in singoli uomini i fattori del progresso si rende palese: se l’eroe non ha creato i suoi concetti, se altri l’hanno preceduto, esso non vale più nulla, e si può trascurare.\n",
            "Solamente collocandosi al giusto punto di vista del progresso collettivo del sapere, si può apprezzare il carattere, il valore ed il rendimento di coloro che, dotati di un potere intellettuale notevolmente superiore alla media, hanno potuto impersonare un grande svolgimento scientifico. E se il metodo, che diremo eroico, può ancora dare risultati studiando alcuni di quei grandi che ebbero un genio potente per la scoperta originale, esso va con gran cura evitato nello studio del non meno grande Lavoisier. Questi, anzitutto, offre un esempio spiccatamente caratteristico dell’ufficio del genio organizzatore ma non inventivo. È difficile, infatti, trovare una scoperta veramente originale di Lavoisier. Non solamente quasi tutte le sue idee, quasi tutti i suoi concetti fondamentali, erano stati emessi, applicati da altri; ma anche è difficile negare che egli non conoscesse benissimo i lavori e gli scritti di quasi tutti i suoi precursori, remoti e contemporanei. Ma se dal lato morale è da rimproverarsi l’ambizioso scienziato di volere rivendicare, anche con mezzi fraudolenti, quello che non gli apparteneva, da quello della considerazione dell’evoluzione scientifica si deve riconoscere che il metodo suo (escluse le ingiuste rivendicazioni) è quello ordinario del progresso della scienza. E se non il fondatore della chimica, che esisteva da lungo tempo, si deve ammirare in Lavoisier l’organizzatore definitivo di una delle più notevoli modificazioni nelle idee teoriche di questa scienza; il passaggio cioè dalla chimica flogistica a quella antiflogistica. Una mente lucida comprensiva, una cultura vasta e variata, una intuizione profonda della via giusta da seguire e degli scogli da evitare, una facoltà meravigliosa di riconoscere in un accenno il fecondo sviluppo successivo, una singolare velocità di reazione intellettuale, per la quale ciò i suoi contemporanei compivano in molti anni egli riusciva a svolgere in pochi, e poi una logica chiara e serrata che non si perdeva nelle astrusità della metafisica, ma che si appoggiava costantemente all’osservazione, alla esperienza, alla misura: ecco le mirabili qualità che hanno fatto dell’uomo che non apporta alla chimica forse un fatto nuovo, il più grande riformatore della chimica stessa. È il lavoro della collettività dei pensatori del sec. XVIII ed anche di quelli del XVII, che trova in esso il suo organizzatore e sistematore; è la mente chiara e giovane che sostituisce il nuovo sistema più adatto e più semplice, al vecchio che per la forza della abitudine e per la legge d’inerzia aderiva alle menti dei chimici più veri e maggiori.\n",
            "*\n",
            "Antoine Laurent Lavoisier nacque a Parigi il 26 agosto 1743 da Jean-Antoine Lavoisier e da Emilie Punctis. Suo padre, procureur au Parlement de Paris, era di agiata condizione, e ricca era la famiglia della madre; il futuro scienziato potè così ricevere una accurata educazione e trascorrere i suoi primi anni senza subire quelle prove dolorose dovute alla miseria, o quei contrasti famigliari nella vocazione, che tanto spesso concorrono a formare il carattere e ad amareggiare la giovinezza di tanti grandi ingegni. Anche la perdita della madre, avvenuta nel 1748, fu quasi completamente compensata dalle cure affettuose della zia materna, Constance Punctis, che dedicò l’intera sua vita ai figli del vedovo cognato. La prima istruzione Lavoisier la ricevette come esterno al Collège Mazarin, l’istituto allora più riputato; indi egli seguì i corsi della facoltà di diritto, facendosi così ricevere avvocato al parlamento.\n",
            "Nel frattempo il giovine parigino andava acquistando una cultura delle più vaste. Dopo alcuni primi tentativi letterarii (Lavoisier abbozzò un dramma, il soggetto del quale era quello della Nouvelle Héloïse), egli si dette con grande passione alle scienze. Egli apprese, così, la matematica e l’astronomia con l’abate La Caille, la botanica con Bernard de Jussieu, spesso da lui accompagnato nelle sue erborizzazioni, la geologia e la mineralogia con Guettard, la chimica con Rouelle. Anche l’anatomia si deve annoverare fra gli studî ai quali egli dedicò la sua attività. Ma il suo più grande interesse scientifico si rivolse dapprima alla meteorologia. Fin dai venti anni egli cominciò così una serie ininterrotta di osservazioni barometriche, che furono continuate per tutta la sua vita, che furono proseguite anche durante i suoi viaggi d’affari, e che, più tardi, furono organizzate su più larga scala dallo scienziato ormai di gran fama.\n",
            "Con questa vasta attività di studî noi vediamo ormai ben presto delinearsi il carattere della mentalità scientifica di Lavoisier. Occupato nei campi più diversi, più per una tendenza enciclopedica, abbastanza caratteristica del secolo nel quale viveva, che per un forte bisogno di sintesi, frastornato anche da una quantità non piccola di affari finanziari e simili, Lavoisier passa incessantemente da uno ad altro soggetto, assimila rapidamente le idee ed i risultati degli altri, e, continuandoli ed organizzandoli, riesce ben presto a lavorare indipendentemente ed a farli progredire. Ed a questa varia attività va sempre unita una accentuata tendenza alla praticità, ed una speciale predilezione per la parte sperimentale e d’osservazione, nella quale unicamente confida il futuro riformatore della chimica, che ripudia invece i lunghi e sottili ragionamenti.\n",
            "Seguendo questi suoi impulsi noi vediamo Lavoisier occupato a percorrere con Guettard varie regioni: la Brie, il Vexin, il Soisonnais, lo Champagne, raccogliendo minerali e fossili, rilevando le stratificazioni, facendo ancora osservazioni barometriche. Uno dei frutti di queste peregrinazioni è la prima memoria scientifica che, il 27 febbraio 1765, egli fece presentare all’Académie de Sciences, e che è intitolata: Sur les differentes espèces de gypse. Nello stesso anno egli si dette con ardore inusitato a svolgere un tema che l’Académie aveva posto a concorso per l’anno seguente e che richiedeva la esposizione del mezzo migliore per illuminare le vie di una grande città. Il premio del concorso fu vinto da tre industriali, ma la lunga memoria di Lavoisier attirò talmente l’attenzione dell’Académie e del pubblico, che quella conferì al giovane autore una medaglia d’oro (20 agosto 1766). Non appena terminata questa temporanea occupazione nel 1767, noi ritroviamo il Nostro ancora al lavoro insieme a Guettard, mentre con questi compie un lungo viaggio, di carattere ufficiale, che si estese fino ai Vosges, e che aveva per iscopo la compilazione di un atlante mineralogico della Francia.\n",
            "Frattanto la posizione ufficiale e le occupazioni di Lavoisier subivano un notevole incremento. Nello stesso anno 1768, infatti, egli entrò, quasi contemporaneamente, a far parte dell’Académie des Sciences e dell’aborrita corporazione dei fermiers généraux, ipotecandosi così per l’avvenire la gloria e la condanna a morte.\n",
            "Il decesso del chimico Baron aveva lasciato vuoto un posto all’Académie. Gli umori della dotta corporazione erano allora divisi fra il giovane Lavoisier ed il metallurgista Gabriel Jars, che aveva reso con la sua opera scientifica importanti servizi allo Stato. Ma, nonostante la seria concorrenza che questi gli procurava, nella votazione, avvenuta il 18 maggio 1768, la causa di Lavoisier riportò piena vittoria, venendo questi presentato in prima linea, mentre Jars occupava il secondo posto. Siccome però la scelta definitiva apparteneva al re, così avvenne che il ministro Saint-Florentin, per soddisfare il funzionario ed accontentare la scienza ufficiale, decise che Jars sarebbe stato nominato al posto di Baron, e che per Lavoisier verrebbe creato un posto straordinario di aggiunto che, alla prima vacanza, sarebbe stato abolito. In tal modo il 1 giugno 1768 Lavoisier potè intervenire per la prima volta come membro alle sedute dell’Accademia. Queste adunanze si tenevano allora due volte la settimana; ad esse il nuovo eletto cominciò a partecipare attivamente, ottenendo spessissimo, e per lunghi anni, l’incarico di numerosi rapporti d’interesse pubblico che dovevano venir discussi. Molti di questi riguardavano questioni di acque potabili, e di argomenti simili, e sono stati riprodotti nella collezione completa dei suoi scritti.\n",
            "Ho detto che nello stesso anno 1768 Lavoisier entrò a far parte della ferme générale. Questa era una società finanziaria alla quale lo Stato appaltava la riscossione delle imposte indirette, dei proventi delle gabelle e dell’octroi di Paris, ed alla quale confidava la vendita del tabacco, etc. etc. L’appalto, che si faceva sotto la firma di un beniamino qualunque, che veniva così ad intascare senza alcuna fatica o spesa una lauta somma, si rinnovava ogni cinque anni, ed era gestita da un certo numero, che variò da quaranta a sessanta, di fermiers généraux, cointeressati in maniera diversa e con diverse mansioni. Sebbene sui guadagni di questi appaltatori gravassero in maniera rilevante, e sotto forma scandalosa, come risultò anche da una indiscrezione, del 1744, croupes e pensioni, fermiers realizzarono sempre somme cospicue. Ed è ben naturale che dal popolo, salassato in ogni maniera, allora, come oggi, a beneficio spesso di pescicani e di speculatori, gli appaltatori stessi fossero indicati quali iene bramose che, coi malcarpiti danari, davano spettacoli ignominiosi di lusso e di sperpero.\n",
            "Nel 1768, al principio dell’appalto condotto sotto il nome Jean Alaterre, il settantaquattrenne François Baudon, volendo per ragioni d’età alleggerirsi il carico di lavoro, accettò Lavoisier come aggiunto, e l’interessò per un terzo della sua azienda. In quell’occasione Lavoisier dovette fare un versamento uguale al terzo della somma richiesta, e cioè di 520.000 livres. (Una livre può paragonarsi a franchi oro 0,987 odierni). Questa cifra, per quanto non versata intieramente in contanti, ci dà una chiara idea delle ottime condizioni finanziarie del Nostro, quando appena si trovava al principio della sua carriera d’appaltatore. Ma ben presto queste migliorarono ancora; infatti nel 1771 Lavoisier fece un nuovo patto con Baudon, entrando a metà degli utili, e versando per ciò un supplemento di 260.000 livres. Si calcola che nel periodo 1768-1774 Lavoisier, come appaltatore, guadagnasse complessivamente 100.000 livres. Scaduto l’appalto di Jean Alaterre, Lavoisier entrò, sempre a metà con Baudon, nel successivo, denominato da Laurent David; questo appalto dette ad ogni appaltatore generale un guadagno medio di 100.000 livres all’anno. Morto il suo socio Baudon Lavoisier, dietro compenso alla vedova, ebbe l’intero appalto intestato al suo nome. In tal modo egli rientra ancora nell’appalto successivo, che va sotto il nome di Nicolas Salzart, e nel quale gli appaltatori generali furono ridotti a quaranta ed il guadagno medio per ciascuno ammontò a 75.000 livres, e finalmente, nel 1788, entrò nel nuovo appalto che va sotto il nome di Jean-Baptiste Mager, e vi rimase fino a che l’Assemblea Nazionale, nel 1791, non soppresse la ferme générale.\n",
            "Non è fuori di luogo rammentare a questo punto quale fosse l’azione, compiuta da Lavoisier nel suo ufficio di appaltatore generale, e che riscosse la maggiore attenzione del pubblico.\n",
            "Fra le altre attribuzioni Lavoisier aveva quella di sopraintendere ai diritti d’entrata di Parigi. Notando il contrabbando enorme che veniva allora esercitato, egli propose che la città venisse circondata da un muro; la proposta rimase qualche tempo senza esecuzione, ma più tardi il ministro Calonne l’approvò ed incaricò l’architetto Ledoux di mettere in opera il progetto. Ledoux spese più di trenta milioni per quest’opera, che cercò di abbellire con lussuose costruzioni alle barriere. Ma come effetto di essa si sollevò una indignazione popolare che non ebbe più limiti. Cominciava già a sentirsi aleggiare violento lo spirito della rivoluzione (siamo verso il 1786), e le critiche, giuste ed ingiuste, contro l’ideatore e l’esecutore del progetto si fecero così asprissime. In un opuscolo anonimo dovuto al Dulaure (Réclamation d’un citoyen contre la nouvelle enceinte de Paris, élevée par les fermiers généraux, 1787), si legge infatti: «Tout le monde assure que M. Lavoisier de l’Académie des Sciences, est le bienfaisant patriote à qui l’on doit l’ingénieuse et salutaire invention d’emprisonner la capitale des Français. Après la mort de cet académicien, le confrère chargé de l’éloge du savant défunt fera charitablement de retrancher ce trait de son histoire. La ferme peut lui élever une statue sur les murs qu’il a inventés, mais l’Académie doit rougir de sa confraternité. On rapport qu’un maréchal de France, le duc de N..... (Nivernais), à qui l’on demandait son avis sur cette enceinte répondit. «Je suis d’avis que l’auteur de ce projet soit pendu». Par bonheur pour M. Lavoisier, cet avis n’a pas encore été suivi».\n",
            "E nel frattempo correva per Parigi e per i saloni il bisticcio:\n",
            "«Le mur murant Paris rend Paris murmurant».\n",
            "mentre si ripeteva la quartina:\n",
            "Pour augmenter son numeraire\n",
            "Et raccourcir notre horizon\n",
            "La Ferme a jugé nécessaire\n",
            "De nous mettre tous en prison.\n",
            "All’impresa della ferme générale Lavoisier ne associò un’altra di carattere amministrativo e pubblico: quella nella Régie des Poudres et Salpêtres.\n",
            "Qui, certamente, l’opera sua, se meno lucrosa, fu però più consentanea ai suoi studî e di maggiore utilità al pubblico. La regia delle polveri fu stabilita da Turgot nel 1775, e fra i quattro régisseurs che la dovevano guidare fu nominato anche Lavoisier. Non è il caso di occuparci diffusamente della sua opera in questa amministrazione; bisogna rilevare però che essa dette impulso a numerosi lavori scientifici sull’argomento, e che, per opera specialmente di Lavoisier, si poterono stabilire delle nitriere artificiali, ed abolire così il vessatorio ed abusato diritto di ricerca del salnitro nelle case. Una accurata preparazione tecnica rese poi le polveri francesi superiori a quelle straniere, mentre copia abbondante delle materie prime si accumulava nei magazzini. Nella prossima ed allora impreveduta guerra condotta dalla coalizione dell’Europa reazionaria contro la Francia repubblicana, questi fatti ebbero una non piccola influenza storica.\n",
            "A questo proposito non è inutile ricordare che si devono a Lavoisier dei tentativi per fabbricare la polvere con il clorato di potassa invece che col salnitro. Nell’occasione appunto di una visita ad un laboratorio dove si preparava una tale polvere, poco mancò che Lavoisier, insieme ad un altro illustre chimico, il savoiardo Claude Louis Berthollet, non rimanesse vittima di una esplosione. Questa uccise il direttore della manifattura Le Tort ed una signora, mentre Berthollet, Lavoisier, la moglie di questi ed altri ebbero la fortuna di rimanere salvi perchè al momento dello scoppio si intrattenevano in un’altra parte del laboratorio.\n",
            "L’entrata di Lavoisier nelle ferme générale ebbe influenza anche sulla sua vita familiare. Jacque Paulze, che era già stato aggiunto alla ferme générale, fu nominato titolare nel 1768. Questo abile amministratore aveva una figlia, Marie-Anne-Pierrette, nata nel 1758. Uno zio di essa, Torray, controleur général, voleva per forza maritarla ad un conte d’Amerval, per il quale sia essa che il padre sentivano ripugnanza. Per impedire che il fatto si compisse, Paulze pensò allora di dare sua figlia a Lavoisier, ed il matrimonio infatti fu celebrato il 16 decembre 1771, quando la sposa era appena quattordicenne. Questo matrimonio fu felice per il nostro scienziato; la moglie, allevata fin da piccola ad una forte devozione ed ammirazione per il marito, gli fu infatti anche affettuosa compagna di lavoro. Essa gli scriveva spesso gli appunti nel laboratorio e lo aiutava traducendogli in francese libri e memorie di chimica scritti in lingue straniere. Due di queste traduzioni furono anche pubblicate, e cioè quelle di due opere di Kirwan: De la force des acides et de la proportion des substances qui composent les sels neutres, ed Essai sur le flogistique. M.me Lavoisier disegnava ed incideva. Le tavole del Traité de Chimie, pubblicato da suo marito, sono dovute a lei. Inoltre in due disegni, che ella ci ha lasciato, noi vediamo suo marito fare insieme a Seguin delle esperienze sulla respirazione, mentre seduta innanzi ad una tavola, ella scrive, appuntando evidentemente i risultati che le vengono dettati dagli sperimentatori. Morto il marito, dal quale non ebbe figli, essa pubblicò (1805) due volumi di memorie che Lavoisier aveva preparato per la stampa e continuò ad occuparsi dei lavori e della memoria di questi. Nel 1805 sposò il noto fisico conte Rumford (Beniamin Thomson), ma se ne separò nel 1809.\n",
            "M.me Lavoisier morì nel 1836.\n",
            "*\n",
            "Nel 1770 Lavoisier iniziò la serie dei suoi lavori fondamentali per la chimica presentando all’Accademia una memoria sulla pretesa trasformazione dell’acqua in terra. È noto come fino dai tempi dei greci, nel sistema degli ionici prima, che postularono un unico elemento dal quale tutti gli altri derivavano, in quello di Aristotele poi, che si basava sui quattro elementi fuoco, aria, acqua e terra, trasformabili fra loro per il variare delle quattro qualità, caldo, freddo, secco ed umido, una tale trasformazione venisse posta quasi a fondamento della dottrina. Col perfezionarsi del metodo sperimentale una tale credenza però non si era scossa; anzi sembrava che alcuni fatti dessero ragione all’antica ipotesi scientifica. Così van Helmont (1577-1644) aveva creduto di darne una dimostrazione osservando come una pianta, tenuta in vaso ed annaffiata con acqua pura, crescesse ed aumentasse di peso, mentre invariato, presso a poco, rimaneva il peso della terra nella quale la pianta figgeva le sue radici. Ma un’altra prova, e più diretta, si credeva di avere facendo bollire lungamente dell’acqua piovana o già distillata, e quindi sicuramente pura, in vasi di vetro. Dopo una lunga ebolizione, che, come nelle esperienze di Lavoisier, si faceva durare anche cinquanta giorni, rimaneva sempre in fondo al vaso una specie di terra. Questa, dunque, rappresentava senz’altro, così dicevasi, quella parte di acqua che si era trasformata nell’elemento più pesante. Ma una tale opinione non poteva mantenersi di fronte ad esperienze più accurate. Ed infatti verso il 1770 si ebbe, quasi nella stessa epoca, la dimostrazione della erroneità dell’ipotesi, per l’opera contemporanea, ma indipendente, di Lavoisier e del grande chimico svedese K. W. Scheele (1742-1786). Il primo mostrò che per una ebullizione prolungata l’acqua attaccava il vetro, e che il peso della terra trovata equivaleva alla diminuzione di peso riscontrata nel recipiente; il secondo provò, con accurate analisi chimiche, che quella terra, composta di silice, potassa e calce, era formata da componenti del vetro e che erano appunto tolti da questo.\n",
            "Nel metodo seguito da Lavoisier in questo suo primo importante lavoro, riconosciamo il tipo del suo modo di sperimentare. La sua attenzione è rivolta all’esame dei rapporti ponderali, e il suo criterio fondamentale, per quanto mai espresso esplicitamente, è che la materia non si crea nè si distrugge e che quindi nelle reazioni che avvengono in un sistema isolato, come diciamo adesso, in un sistema cioè che non si trova in scambio di sostanze con parti esterne ad esso, il peso deve rimanere costante. Questo suo criterio, che aleggiava, è vero, in molti degli scienziati anteriori, e che fu solamente più tardi enunciato esplicitamente e sottoposto a prove dirette, ma che guidò costantemente Lavoisier nelle sue esperienze e che dominò il suo sistema, fanno riguardare il chimico francese come il vero primo enunciatore del principio della conservazione della materia, o, come, meglio si deve dire, della persistenza della massa.\n",
            "Questo suo metodo lo vediamo brillantemente applicato nella serie di esperienze che furono ben presto eseguite da Lavoisier e che sono quelle che determinando la nuova corrente antiflogistica, fecero del parigino il cosidetto fondatore della chimica moderna, o, meglio, quegli che ridusse ad un sistema semplice e giusto una congerie grandissima di fatti che prima erano interpretati in modo complicato ed, in ultima analisi, poco soddisfacente.\n",
            "Il fatto che dette origine a questi studi risale a molti secoli indietro. Alcuni scritti del XIII secolo (che andavano sotto il nome di Geber, e che per lungo tempo erano stati creduti opera del famoso alchimista arabo del IX secolo) e che hanno una notevole importanza nella storia della chimica per le cognizioni progredite che mostrano, si trova accennato che il piombo e lo stagno aumentano di peso quando, fortemente riscaldati in presenza dell’aria, si convertono nelle relative calcine metalliche. L’osservazione viene ripetuta dal nostro grande chimico tecnico del Rinascimento, il senese Vannoccio Biringuccio (1480-1539) nella sua De la Pirotechnia: in essa non solamente troviamo una esatta misura dell’aumento (8% circa) di peso del piombo, ma anche una spiegazione del fenomeno. Biringuccio suppone, infatti, che esso sia dovuto alle parti acquee ed aeree, perdute durante la calcinazione, e che prima, per la loro leggerezza, sostenevano in alto il piombo; egli fa anche un confronto fra questo fenomeno e quello di un animale che, morto, è maggiormente grave (così almeno allora si credeva) di quando era vivo. Cardano (1501-1576) copiando i dati di Biringuccio, esagera malamente in senso animistico la spiegazione di questi, ma, con la grande diffusione del suo De rerum subtilitate, concorre a diffondere il problema entro una cerchia più vasta di scienziati. Ed infatti si può poi dire che tutti i chimici importanti dal XVI sec. al XVIII si siano occupati di una tale questione, e che essa, opportunamente estesa, abbia determinato quell’epoca della storia della chimica spesso denominata flogistica, e l’epoca di Lavoisier, nella quale la teoria del flogisto fu battuta in breccia, o, meglio, quel periodo che nella mia suddivisione della chimica in periodi, io ho denominato pneumatico, perchè in esso il perno della speculazione teorica e la mole maggiore del lavoro pratico si aggirava intorno allo studio dei gas.\n",
            "Abbandonata la teoria animistica di Cardano, le supposizioni fatte dai diversi scienziati, per spiegare il fenomeno furono fra loro diversissime. Rammenterò così che il grande Robert Boyle (1627-1691), quegli che fra altro ha legato il suo nome ad una celebre legge che regola i rapporti fra il volume e la pressione nei gas, suppone che le particelle del fuoco, passando attraverso le pareti del recipiente, si aggiungano, calcinandole, alle particelle del metallo. Questa opinione però non fu generalmente accettata; già, anzi, il farmacista Jean Rey († 1645), del quale parleremo più innanzi, arrivò ad affermare, con acuta visione del futuro, che non il fuoco, ma l’aria era la sostanza che si addizionava al metallo. Ma la spiegazione più comprensiva intorno ai fenomeni di calcinazione, e che certamente fece fare un grande progresso alla chimica, per quanto non esatta, fu quella del flogisto, emessa da G. E. Stahl (1660-1734) e che si riannoda ad alcune idee già sostenute da J. J. Becher (1635-1682). Il grande merito di questa teoria consiste nel fatto di aver avvicinato due specie di fenomeni che fino allora venivano considerati come distinti, quello cioè della combustione e quello della calcinazione. Stahl e la sua scuola supposero che il principio che cagiona la combustione fosse una sostanza che fu denominata flogisto (da φλόξ fiamma); questa sostanza fa parte integrale di tutti i corpi che bruciano; il carbone, il tipo più caratteristico dei combustibili, è formato anzi quasi completamente da puro flogisto.\n",
            "Una lunga esperienza, che risaliva ai più antichi metallurgisti, sembrava confortare questa dottrina. Si sapeva infatti che le calcine metalliche, sia quelle date dai minerali naturali o preventivamente arrostiti, sia quelli ottenuti artificialmente dai metalli stessi, quando vengono infuocati insieme al carbone, cioè, come si diceva, con una grande quantità di flogisto, si riducono a metalli. Assai logico era quindi supporre, come avvenne effettivamente, che l’unione della calcina metallica con il flogisto producesse il metallo, e che la calcinazione invece avvenisse per la perdita del flogisto stesso. Calcinazione e combustione erano quindi due aspetti di uno stesso fenomeno. In ambedue si aveva una perdita di flogisto.\n",
            "Ho detto che la teoria flogistica era un grande passo nel progresso della chimica, perchè dava una dottrina comprensiva ed unica per una larga serie di fenomeni. Ma il suo difetto, quello che condusse Lavoisier, prima ad abbandonarla, poi a combatterla, consisteva appunto nella spiegazione del fenomeno dell’aumento di peso che tutti i metalli, e non solamente il piombo e lo stagno, come fu dimostrato da sempre nuove esperienze, subivano durante la calcinazione. Una supposizione possibile, e che venne effettivamente fatta, non da Stahl, ma dalla sua scuola, era quella di attribuire al flogisto un peso negativo; in tal modo si poteva spiegare come, aggiungendolo alle calcine metalliche, si avesse una diminuzione di peso. La nuova spiegazione, quasi, ritornava al principio già emesso da Biringuccio. La supposizione sembrò ad un dato momento essere brillantemente confermata quando Cavendish (1731-1810), facendo agire un acido su alcuni metalli, riconobbe e caratterizzò per primo l’esistenza di una inflammable air (l’odierno idrogeno), che aveva la proprietà di bruciare e nello stesso tempo di essere più leggera dell’aria, tanto da poter essere impiegata, poco più tardi, per l’elevamento dei palloni aerostatici. Da molti allora, e da Cavendish stesso, questa aria infiammabile fu identificata col flogisto, e la spiegazione potè sembrare attendibile, data la frequente confusione fra peso assoluto e peso specifico, che si riscontra frequentissima e che capita ad ogni passo anche nei lavori del Rey. Va notato però che la scuola di Stahl, appunto perchè trascurò assai le considerazioni ponderali, potè sviluppare senza troppi inconvenienti sensibili la sua ipotesi fondamentale. Non appena però cominciarono ad esser fatte accurate esperienze con la bilancia, la situazione cominciò a cambiare, e la sviluppata conoscenza delle sostanze aeriformi rese necessario, nonostante i forti contrasti dei più grandi chimici di allora, il rivoltamento completo della teoria del flogisto. Non doveva più il metallo essere una combinazione della sua calcina con l’ipotetico flogisto, ma la calcina doveva essere combinazione del metallo, elemento semplice, con un’aria praticamente ottenibile, quell’aria che Lavoisier, seguendo una falsa opinione, denominò dapprima principe oxygine, ossia principio degli acidi, ma che più tardi, da Lavoisier stesso, ebbe il nome di ossigeno.\n",
            "La moderna teoria degli elementi data da Robert Boyle. Col grande scienziato inglese gli elementi sono le ultime parti nelle quali le varie sostanze potevano essere effettivamente ridotte. Un elemento, dunque, era una sostanza non ulteriormente scomponibile, o, meglio, data la relatività delle nostre conoscenze, una sostanza che praticamente non era stata ulteriormente scomposta. Soddisfacevano a queste condizioni gli antichi elementi aristotelici la terra, l’acqua, l’aria ed il fuoco, o i più recenti principi degli alchimisti, lo zolfo, il mercurio ed il sale? Le nuove esperienze davano una risposta negativa in proposito. Per l’aria la questione si risolse con l’accurato studio di essa iniziato da van Helmont (l’inventore della parola, oggi tecnica e di uso comune di gas) e con lo sviluppo susseguente della chimica pneumatica (πνεῦμα, soffio, aria).\n",
            "Van Helmont cominciò a distinguere numerose specie di arie. In particolare egli osservò il gas sylvestre (l’odierno acido carbonico) che si sviluppava quando si cuoceva la pietra da calcina, quando si trattavano con acidi il marmo o la potassa, quando si bruciava il carbone, quando infine fermentavano il vino o la birra.\n",
            "Gli studî iniziati dal celebre scienziato di Bruxelles, furono seguiti da quelli di una serie illustre di cercatori inglesi. Così fra i più celebri scienziati della seconda metà del sec. XVIII abbiamo i nomi di J. Black (1728-1799) di H. Cavendish, di J. Priestley (1733-1804), ai quali si deve aggiungere quello non meno famoso dello svedese K. W. Scheele. Questi contemporanei di Lavoisier sono strettamente collegati per i loro lavori allo scienziato parigino. Vedremo che essi, prima o quasi contemporaneamente a Lavoisier, fecero le sue stesse esperienze e resero noti i loro risultati. Eppure dinanzi alla rivoluzione teorica compiuta da Lavoisier, che logicamente proveniva dai fatti da loro stessi provati, essi assunsero un contegno ostile, mantenendo e difendendo la teoria del flogisto. Il solo Black, il grande e valoroso fisico, che, con maestrevoli esperienze, di carattere prevalentemente ponderale, studiò l’acido carbonico ed i carbonati ed arrivò a stabilire i concetti di calore specifico e di calore latente, si dichiarò più tardi per la nuova dottrina antiflogistica.\n",
            "Black compì studi accuratissimi sull’aria fissa (il gas sylvestre di van Helmont); Cavendish scoprì, come abbiamo già detto, l’aria infiammabile e, come vedremo, rivaleggiò con Lavoisier per la scoperta della composizione dell’acqua, Priestley e Scheele, indipendentemente l’uno dall’altro, scoprirono quel gas che Lavoisier, più tardi, denominò ossigeno, e che forma il cardine della nuova teoria.\n",
            "Tale era lo stato delle teorie e delle conoscenze chimiche quando Lavoisier, verso il 1772, cominciò a studiare i problemi relativi alle diverse specie di arie ed alla calcinazione dei metalli. Prima di passare però ad esaminare lo sviluppo che essi ebbero per opera di Lavoisier e contemporaneamente a Lavoisier, è necessario considerare con alquanta attenzione l’opera dei due antichi precursori del chimico parigino: Jean Rey e John Mayow.\n",
            "Il medico e farmacista francese J. Rey, in seguito ad un invito pervenutogli di spiegare l’aumento del peso durante la calcinazione del piombo e dello stagno, e ad accurati studî ed esperienze in proposito, pubblicò nel 1630 un opuscolo di «Essais sur la recherche de la cause par laquelle l’estain et le plomb augmentent de poids quand on les calcine». Rey era un aristotelico che spesso usava ragionamenti di tipo scolastico per sostenere le sue opinioni; ciò non toglie però, come dice H. Kopp, che l’opera di Rey non sia per il suo tempo uno squisito modello di ricerca. Rey, dunque, nel suo opuscolo dimostra dapprima che tutte le sostanze sono pesanti; anche l’aria, quindi, ed il fuoco sono tali, e se non possiamo accorgercene direttamente, ciò dipende dal fatto che noi li osserviamo dentro un mezzo egualmente o più denso di quello che essi siano. Si noti bene che questa asserzione della pesantezza dell’aria è anteriore agli esperimenti decisivi di E. Torricelli e di Otto von Guericke. Una volta affermato questo, Rey passa a dimostrare che le spiegazioni date fino ad allora intorno all’aumento del peso del piombo e dello stagno nella calcinazione non sono soddisfacenti; essa deve ricercarsi invece nel fatto che l’aria, mescolandosi intimamente alla calce del metallo, produce l’aumento medesimo. È interessante rilevare che uno dei mezzi usati dal Rey per dimostrare che le particelle di fuoco o la fuliggine, o le parti saline sprigionatesi dal fuoco non potevano contribuire ad un tale aumento, consisteva nel calcinare i metalli facendo su di essi convergere i raggi solari per mezzo di forti e grandi lenti. Il lavoro di Rey, per quanto lodato dal P. Mersenne e da altri, cadde ben presto in completa dimenticanza. Ma Lavoisier, certo, non l’ignorò, sebbene desiderasse di far credere una tal cosa; infatti l’opera ebbe un nuovo periodo di diffusione quando, nel 1775, Bayen vi richiamò l’attenzione con un articolo pubblicato sul giornale dell’abate Rozier, mentre poi nel 1777 Gobet la ristampava integralmente. Non mette quindi in buona luce la figura di Lavoisier quello che possiamo leggere nelle sue postume Mémoires de Chimie, dove, denigrando ciò che tanto gli aveva servito, non si perita a dire: «J’ignorais alors ce que Jean Rey avait écrit à ce sujet en 1630; et quand je l’aurait connu, je n’aurais pu regarder son opinion à cet egard, que comme une assertion vague, propre à faire honneur au genie de l’auteur, mais qui ne dispensoit pas les chimistes de constater la verité de son opinion par des experiences».\n",
            "La sorte toccata al lavoro del Rey toccò alla parte più interessante dell’opera di John Mayow (1645-1679), che pure ebbe fama per teorie meno importanti, e che solamente da una morte precoce fu forse impedito a compiere quello che si verificò un secolo dopo. Mayow nel suo Tractatus quinque Medico-physici, pubblicato nel 1674, rende nota una serie di osservazioni acutissime, frammiste alle deduzioni derivate da certi suoi concetti corpuscolari. Osservando che tanto l’aria quanto il salnitro mantengono la combustione, egli deduce che in entrambi si deve trovare una parte comune che gode della proprietà citata, parte alla quale egli dà il nome di spiritus nitro-aereus o di particulae nitro-aereae; nel salnitro, però, oltre questa sostanza si trova ancora una parte terrosa; anche nell’aria questo spirito nitroaereo non forma che una parte del tutto. Questa parte comune all’aria ed al salnitro viene consumata da una sostanza che brucia. Egli ripete così un’antica esperienza fatta e descritta dal meccanico alessandrino Filone di Bisanzio, nel terzo secolo prima dell’era volgare, ma che l’antico greco non era riuscito ad interpretare nettamente. Una candela, infatti, posta in un ambiente ristretto e chiuso, dopo poco si spegne. Ciò avviene appunto quando le particelle sopradette sono del tutto consumate.\n",
            "Se l’esperienza si fa entro un vaso di vetro capovolto in un recipiente di acqua, si vede che, estintasi la candela, e dileguatasi l’influenza del calore sviluppato durante la combustione, l’acqua sale entro il vaso di vetro, mostrando, così che una parte dell’aria è stata consumata.\n",
            "Anche la respirazione è un fenomeno dello stesso genere, afferma Mayow, e questo si prova ponendo un animale entro un vaso di vetro capovolto, come nel caso precedente, in un recipiente di acqua, ed osservando anche qui che una parte dell’aria viene consumata.\n",
            "L’aria privata delle particulae nitro-aereae, come diceva Mayow, sia in uno dei modi precedentemente ricordati che in un altro, non è, invece, più atta a mantenere la respirazione. Veniva così stabilita quella identità dei fenomeni di combustione e di respirazione che vedremo anche questa ripresa da Lavoisier e concorrere potentemente al trionfo della sua teoria. Mayow infine spiega anche la dibattuta questione della calcinazione con l’ammettere che in tal caso questo spiritus, speciale componente dell’aria, si unisce col metallo in questione. A questo proposito egli riferisce intorno ad alcune esperienze fatte calcinando l’antimonio concentrando su di esso con una lente i raggi del sole.\n",
            "Mayow va anche più innanzi nella scoperta del vero agente della calcinazione e della combustione. Egli nega, infatti, che la parte volatile del salnitro, cioè l’acido nitrico, rappresenti il suo spiritus nitro-aereus, perchè non si poteva ammettere che essa si trovasse come tale nell’aria. Questa parte volatile del salnitro doveva invece alla sua volta essere composta con questo spiritus; quest’ultimo anzi doveva essere parte essenziale degli acidi, ai quali apporta la loro proprietà caratteristica. Sappiamo che anche quest’ultima teoria fu adottata da Lavoisier, e che anzi essa servirà a designare questo spiritus, ormai effettivamente preparato, col nome di ossigeno. Mayow, non arrivò a preparare effettivamente ed a riconoscere questo ossigeno; molte sue esperienze mostrano, però, come egli per poco non giungesse a questa scoperta, a quella dell’idrogeno, ed a quella di varî altri gas. In ogni modo è da notare che, preludendo ancora la chimica nuova, egli afferma che questo elemento, tale infatti egli lo stima, è il primo, per importanza, fra tutti gli altri: «inter principia rerum naturalium principem locum obtinet Spiritus nitro-aereus». Occorre appena rilevare che questa concezione sarà il cardine della chimica nell’indirizzo datale dal fondatore del sistema antiflogistico.\n",
            "Lavoisier conobbe i lavori di Mayow che tanto si avvicinano nella concezione generale ai suoi? Nei suoi Opuscules del 1774 egli non rammenta Mayow, come non rammenta Rey, nè altri dei quali non desiderava parlare. Certamente, però, dopo il 1780, quando molti si incominciarono ad occupare del grande chimico inglese, Lavoisier doveva conoscerlo. Un passo di una lettera di Magellan a madame Lavoisier: «Quand’après les découvertes de Lavoisier, on lui opposa Mayow dont-il n’avait jamais entendu parler, il chargea son ami Magellan, qui abitait Londres, de lui procurer le livre du savant anglais. Magellan s’adressa en vain à tous les libraires de Londres; il lui fut impossible de trouver un exemplaire des oeuvres de Mayow», è invero, come dice M. Speter, in contraddizione aperta con i fatti, perchè molte librerie allora possedevano il libro ricercato, ed esso si trovava segnato nel catalogo allora in uso della biblioteca della Royal Society. Se poi si tien conto del modo ordinario di agire di Lavoisier, non si può non credere fermamente che l’opera di Mayow fosse già conosciuta da Lavoisier e che questi, anzi, ne ritraesse una spinta fortissima per l’intiera sua produzione scientifica.\n",
            "Va ricordato, infine, come precursore di Lavoisier; sebbene da questi certamente non conosciuto, lo scrittore e scienziato russo Michailo Wassiliewic Lomonossow (1711-1765), che rammenteremo più oltre, e che non solo precorse Lavoisier nelle sue esperienze e teorie sulla calcinazione, ma che è notevole per la sua spiccata tendenza alle misure quantitative, ed in ispecie, a quelle ponderali. Lomonossow inoltre enunciò chiaramente il principio della persistenza della massa in una sua lettera ad Euler: «Tutte le variazioni che avvengono in natura sono tali che se in un posto qualsiasi si ha un aumento, in un altro qualsiasi si ha una diminuzione corrispondente. Se quindi un corpo guadagna della materia, un altro ne perde altrettanta. Questa legge di natura è generale, e si può anche applicare al movimento».\n",
            "Dopo questo cenno ad alcuni dei precursori di Lavoisier, continuiamo a seguire la produzione scientifica del chimico parigino. Il 1 novembre 1772, dunque, Lavoisier depose all’Accademia una nota che fu aperta e letta l’anno seguente. In essa egli annunziava di avere scoperto che lo zolfo ed il fosforo, bruciando, danno un prodotto (acido solforico e fosforico) di peso maggiore della sostanza di partenza. Lavoisier mette in rapporto questo aumento con quello osservato nella calcinazione dei metalli. Egli nota, inoltre, che durante tale fenomeno viene fissata una notevole quantità di aria. «Questa scoperta, egli aggiunge, mi sembra una delle più interessanti dal tempo di Stahl; perciò io credo opportuno di assicurarmene la priorità, deponendo questa nota nelle mani del segretario dell’Accademia, dove essa deve rimanere segreta fino a che non pubblicherò i miei esperimenti».\n",
            "Questi, però, non furono pubblicati subito a parte, ma si trovano compresi in un volume, già pronto alla fine del 1773, e che uscì con il titolo di Opuscules physiques et chimiques, t. I, Paris, 1774. La prima parte del volume racchiude un cenno storico sulla questione studiata, la seconda la contribuzione personale di Lavoisier. In questa il chimico francese (riannodandosi a lavori del grande chimico inglese J. Black) parte da esperienze relative all’aria fissa (acido carbonico) che si ottiene dalle pietre e dalle terre calcaree; egli mostra come essa formi appunto una notevole parte del peso di esse. Nell’aria, quindi, deve contenersi un fluido elastico di tale genere che, unendosi coi metalli durante la calcinazione, ne determina l’aumento di peso. Una prova di ciò si ha nel fatto che fuori del contatto dell’aria la calcinazione non avviene, mentre essa è più veloce se il metallo presenta grande superficie, ed è invece più lenta, e ad un certo punto cessa affatto, se essa si trova in ambienti ristretti. Numerosi indizi ci fanno credere che Lavoisier tendesse per un tempo relativamente lungo ad ammettere che il fatto si dovesse appunto all’aria fissa sopra ricordata. Egli osserva ancora che, nel momento della riduzione della calce a metallo, si avverte uno sviluppo gassoso. Osservando poi l’importanza del carbone per ottenere la riduzione, egli si domanda se questo deve servire per ridare al metallo la parte combustibile, come si ammette nella teoria di Stahl, oppure se esso si unisce col fluido elastico in questione. Forse avvengono ambedue le cose, ma, nota espressamente l’autore, in questi difficili problemi bisogna procedere con grande circospezione.\n",
            "Oltre quelle con i metalli, Lavoisier riporta le sue esperienze col fosforo. Anche in questo caso quando si brucia il fosforo in ambienti chiusi si ha assorbimento di una parte dell’aria, e la combustione e l’assorbimento cessano ad un dato punto; nell’aria restante una candela non brucia più. Lavoisier potè inoltre stabilire che la parte dell’aria assorbita è la parte più pesante di essa; egli poi dimostra ancora che essa non può essere del vapore d’acqua. Egli fa anche dell’esperienze mescolando l’aria residua, dove era stato bruciato il fosforo, con dell’aria fissa ottenuta dall’azione dell’acido vetriolico (solforico) sul calcare; riconosce però che questa miscela non presenta le proprietà dell’aria ordinaria. Questa prova mostra chiaramente che, come abbiamo già accennato, Lavoisier supponeva ancora che la parte di aria che si unisce ai metalli o al fosforo, fosse appunto aria fissa.\n",
            "Quasi tutte l’esperienze citate, e che si trovano negli Opuscules physiques et chimiques, erano già state fatte da altri; Boyle, Black, Cavendish, Priestley, etc. Dove, come dice lo Speter, si riconosce l’unghia del leone, è nella logica serrata e conseguente dell’insieme, tutta fortemente basata sull’esperienza. Questa forza e questo metodo di organizzazione e di sintesi farà sì che, pure essendo precedute da altri anche molte delle sue successive esperienze, l’appaltatore generale, che è anche un grandissimo chimico, dando la soluzione di problemi lungamente agitati, potrà divenire il vero fondatore della chimica antiflogisitica, o, meglio, come ho mostrato altrove, il genio che riunisce e conchiude in una sintesi definitiva il lavoro di tutto un lungo periodo storico (quello da me denominato pneumatico).\n",
            "In quello stesso anno 1774, al principio del quale Lavoisier pubblicò i suoi Opuscules, e che nell’agosto doveva portare per opera di Priestley la prima scoperta effettiva dell’ossigeno, quella cioè nella quale lo sperimentatore ha la coscienza della scoperta fatta, un altro chimico francese precedeva di gran lunga l’opera del suo compatriotta e dello sperimentatore d’oltre la Manica. Questi era Pierre Bayen (1725-1798) che nel febbraio e nell’aprile di quell’anno pubblicò appunto nelle Observations sur la physique dell’abate Rozier due memorie, nelle quali si occupa della riduzione a metallo, sia col carbone sia senza, della calce del mercurio, e delle sue combinazioni con lo zolfo. Nella seconda memoria in ispecial modo, egli si sofferma sul fatto del maggior peso che ha la calce del mercurio in confronto al mercurio che se ne ricava o che in essa si può trasformare. A questo proposito egli riduce la calce del mercurio con del carbone ed osserva che si sviluppa dell’aria fissa, che ha per caratteristica di poter essere assorbita dall’acqua. Questo può spiegarsi, egli dice, con la teoria di Stahl; il flogisto del carbone può andare ad unirsi al metallo ed anche entrare nella composizione del fluido elastico (aria fissa) che si forma, oppure scacciarla semplicemente dalla sua combinazione col metallo. Ma un altro fenomeno era in pieno contrasto con la teoria di Stahl. Quella polvere rossa (la calce del mercurio) che col carbone si riduceva a mercurio sviluppando aria fissa, riscaldata da sè sola si riduceva egualmente e sviluppava ancora un fluido elastico, ma questo non era quello stesso di prima, perchè non veniva assorbito dall’acqua. Purtroppo Bayen non attese a studiare più a lungo quel gas che, come ora sappiamo bene, non era altro che l’ossigeno. In tal modo la fama della grande scoperta fu riserbata ad altri. Le sue osservazioni bastarono però per fargli affermare che il mercurio, calcinandosi, non solo non perde flogisto, ma che, al contrario, si unisce ad una data specie di aria, con conseguente aumento di peso. Egli respinge così nettamente, e per primo, la teoria del flogisto di Stahl, e conferma ed estende questa sua opinione in una memoria posteriore che fu pubblicata nello stesso giornale nel febbraio 1775. In questa memoria egli si riferisce anche alle esperienze di Lavoisier annunciate nel frattempo (12 novembre 1774) e che rammenteremo ben presto.\n",
            "Frattanto il primo agosto 1774 Priestley, e seguendo lo stesso metodo di Bayen, ossia riscaldando la calce del mercurio, scopriva definitivamente l’ossigeno, o, per usare la terminologia dell’epoca, quel gas che egli allora denominò aria deflogisticata; quasi contemporaneamente, sebbene pubblicata più tardi, una simile scoperta, ma con metodi più svariati, veniva fatta da Scheele.\n",
            "A questo proposito è da notare ancora esplicitamente, e a guisa di riepilogo, che molti avevano preparato questo ossigeno ma senza riconoscerlo e studiarlo. Mayow, lo abbiamo già rammentato, ne aveva già divinate le proprietà. Ole Borch, un suo quasi contemporaneo, lo aveva effettivamente preparato, senza però poterlo raccogliere, dal salnitro. Hales, al principio del secolo XVIII, lo aveva di nuovo ottenuto in tal modo, raccolto, misurato. Bayen, anche, come è stato detto, l’aveva visto gorgogliare attraverso l’acqua senza disciogliervisi. Ma il vero e proprio riconoscimento della nuova aria non si ebbe, indipendentemente fra loro, che da Scheele e da Priestley.\n",
            "Priestley, dunque, dopo fatta la sua scoperta, trovandosi a Parigi nell’ottobre 1774, ed essendo in quella occasione anche invitato a pranzo da Lavoisier, comunica personalmente i risultati delle sue esperienze. Ma allora come andò che Lavoisier, il chimico francese, cercò di attribuirsi il merito della scoperta dell’ossigeno? E perchè nelle comunicazioni che fece nel 1775 e 1778, e nelle quali ricorda le esperienze fatte con l’ossido (la calce) di mercurio, quelle stesse cioè compiute già da Bayen, non nomina affatto i suoi due immediati predecessori dei quali egli non poteva assolutamente ignorare i lavori ed i risultati? Lo storico imparziale deve qui riconoscere un grave difetto nel carattere dello scienziato grandissimo.\n",
            "Dopo le sue brillanti esperienze e conclusioni, Bayen non continuò a lavorare su questo soggetto. Egli per primo, come si è visto, inaugura con l’esperienza ed il ragionamento la chimica antiflogistica; ma dell’argomento si era ormai impossessato Lavoisier e la velocità di reazione del pensiero di questo, superando di gran lunga quello degli altri, Bayen non poteva più correre con quegli lo stesso palio.\n",
            "Una delle obbiezioni più gravi contro le nuove teorie che cominciavano a sorgere intorno alla calcinazione, era ancora rappresentata dalla teoria emessa da Boyle e che si imponeva anche per l’autorità del grande scienziato. Ho già detto che il celebre autore del Chymista scepticus aveva asserito che l’aumento di peso era dovuto alla materia del fuoco che, passando attraverso ai pori del vetro o del recipiente, si aggiungeva al metallo sottoposto alla calcinazione. Ma se questo era vero, allora, tenendo il metallo in recipienti perfettamente chiusi, il peso che questi presentavano dopo avvenuta la calcinazione avrebbe dovuto essere maggiore di quello di prima. È questo quello che Lavoisier si propose di sperimentare nel corso del 1774; i risultati in proposito sono esposti in una comunicazione all’Accademia fatta il 12 novembre 1774. Lavoisier trovò dunque che le storte chiuse alla lampada, pesate prima e dopo la reazione, non subivano alcuna variazione ponderale; dunque la materia del fuoco non poteva cagionare detto aumento. Si confermava invece che la calcinazione si dovesse piuttosto ad una parte dell’aria contenuta nelle storte dal fatto, che, in queste, dopo la calcinazione, l’aria si trovava ad una pressione assai minore. Infatti rompendo la punta di esse si sentiva entrarvi, sibilando, l’aria. Lavoisier rilevò ancora, fatto importante, che la parte di metallo che si può calcinare, aumenta col volume della storta. Egli crede poter ancora dedurre, ma non ancora in modo troppo esplicito, che l’aria comune è un miscuglio di due fluidi o arie, e che di queste la più densa è quella che si unisce al metallo. Alcuni suoi accenni al fatto che questa è un’aria respirabile, mentre quella che rimane non lo è (è una mofette), non si trovano nella memoria originale, ma solo nella pubblicazione posteriore (1777) di essa, fatta nelle Mémoires de l’Académie pour le 1774.\n",
            "Anche in queste esperienze Lavoisier aveva avuto dei precursori. Già Lomonossow ne aveva fatte alcune perfettamente identiche nel 1756, e con lo scopo preciso di controllare l’opinione di Boyle. Il nostro Giovanni Battista Beccaria (1716-1781), poi, non appena fu comunicata la memoria di Lavoisier, scrisse a questi una lettera, che il chimico francese non potè esimersi dal pubblicare sul Journal de physique; in essa il Beccaria rammenta come avesse già da lungo tempo eseguite delle esperienze simili, che erano state già rese note dal Cigna. In questa era stata fatta anche l’importante osservazione che la quantità di metallo calcinato aumentava col volume del recipiente, ma che non proseguiva mai oltre un certo termine.\n",
            "Al principio del 1775 Lavoisier credeva ancora che l’aumento di peso potesse dipendere dall’aria fissa. Ma ben presto dovette convincersi che un’altra aria ne era la cagione. Lo portarono a ciò, senza dubbio, la conoscenza dei lavori di Bayen e di quelli di Priestley, ed inoltre una interessante lettera di Scheele, che si potè ritrovare fra le sue carte. Il chimico svedese, non possedendo una grande lente per concentrare i raggi solari, scrive, in data 30 settembre 1774, al collega francese pregandolo di volere fare per lui una esperienza con quella sostanza che adesso denominiamo carbonato d’argento. È noto che sotto l’azione del calore questo composto si dissocia in acido carbonico e ossido di argento, e che questo ultimo, a sua volta, si scompone in argento metallico ed ossigeno. Scheele, dunque, nella sua lettera, pregava Lavoisier di riscaldare con la lente il carbonato d’argento, di raccogliere il gas che si sviluppava, e, liberandolo dall’aria fissa, di esaminare il residuo. «C’est par ce moyen» egli scrive «que j’espère que vous verrez combien d’air se produit pendant cette reduction, et si une chandelle allumée pouvait soutenir la flamme et les animaux vivre là dedans. Je vous serai infiniment obligé, si vous me faites savoir le résultat de cet experiment».\n",
            "Ho già detto che nell’ottobre 1774 Priestley era venuto a Parigi, e che aveva comunicato a diversi scienziati il modo ed i risultati delle sue esperienze. Ora, premesso tutto ciò, noi possiamo legittimamente domandarci che cosa vi è di personale nella importante memoria, letta il 26 aprile 1775, nella quale si parla della riduzione della calce di mercurio con carbone e senza, e dei diversi gas che nei due casi si presentano. Non solo, ma da questo momento Lavoisier accenna a rivendicare chiaramente per sè la scoperta dell’ossigeno, come poi nel 1776, nel 1782, ed ancora più tardi. La memoria ora citata fu pubblicata subito nel Journal de physique; nelle Mémoires della Accademia fu stampata invece nel 1778. In questa ultima redazione essa contiene molte variazioni dovute alla successiva evoluzione del pensiero del suo autore.\n",
            "Si noti bene che, all’epoca nella quale siamo arrivati, Lavoisier non aveva ancora ben sviluppato i caposaldi di ciò che fu la sua teoria posteriore; egli, pure facendone a meno in molti casi, non si opponeva ancora recisamente alla teoria del flogisto; egli, nonostante vaghi accenni contrarî, non era arrivato a comprendere chiaramente che l’aria è costituita da due fluidi ben differenti, dei quali uno è quello che cagiona l’aumento di peso dei metalli, e che permette la combustione e la respirazione, mentre l’altro non gode di tutte queste proprietà; egli non aveva ancora distrutta una delle più gravi obbiezioni che si sollevava naturalmente contro la nuova teoria, e che non si poteva eliminare se non col riconoscimento dell’esatta composizione dell’acqua.\n",
            "*\n",
            "Non è possibile seguire qui passo passo i lavori di Lavoisier, e riconoscere come progressivamente andasse germinando nel suo spirito la nuova teoria, sebbene ciò formi uno studio dei più interessanti, sia dal lato storico, sia da quello psicologico.\n",
            "Accennando brevemente ad alcuni lavori intermedî, cercherò quindi di soffermarmi soltanto alle tappe principali segnate dalla Mémoire sur la combustion en général (1777), dalle Réflexion sur le phlogistique, pour servir de développement à la théorie de la combustion et de la calcination publiée en 1777 (1785?) ed infine dal Traité élémentaire de chimie présenté dans un ordre nouveau et d’après les découvertes modernes (1789).\n",
            "Nell’intervallo 1775-1777 sono annunziate gran parte delle esperienze che dovevano trovare la loro sistemazione storica nella memoria sulla combustione in generale. Tali sono: quelle sull’acido nitroso (l’odierno acido nitrico), che erano state fatte anche da Priestley, qui espressamente citato, ma in maniera tendenziosa, e che portarono a riconoscere, anche per mezzo della sintesi diretta, che quell’acido annoverava fra i suoi componenti l’aria eminentemente pura (ossigeno); quelle infine sulla combustione del fosforo.\n",
            "Il 3 maggio 1777, comunicando le sue Experiences sur la respiration des animaux; et sur les changemens qui arrivent à l’air en passant par leur poumon, Lavoisier comincia a trattare diffusamente il fenomeno fisiologico della respirazione considerandolo sotto il suo aspetto chimico, e ravvisandovi un fenomeno analogo a quello della combustione.\n",
            "Si noti, però, che, a parte i lavori di Mayow, anche qui Priestley aveva già trattato questo soggetto in una conferenza tenuta il 25 gennaio 1776 alla Royal Society.\n",
            "Finalmente nella memoria già citata sulla combustione in generale, comunicata nel settembre 1777, Lavoisier comincia ad assumere nettamente un’attitudine che lo porta a respingere la teoria flogistica. Priestley, Scheele e tutti gli altri grandi chimici di allora, avevano ordinati i fatti ultimamente scoperti dentro la antica teoria di Stahl. L’ossigeno era, secondo essi, un’aria deflogisticata che, per divenire nuovamente flogisticata, si doveva combinare di nuovo col flogisto esistente nei metalli, nel carbone, etc. La descrizione dei fatti richiedeva in tal modo lunghe spiegazioni, spesso assai azzardate; Lavoisier, sicuro ormai del fatto suo, ardisce contraddire apertamente l’opinione comune, pur non muovendole ancora una guerra dichiarata. Con la sua nuova ipotesi, come egli ci dice: «on explique d’une manière très satisfaisante tous les phénomènes de la combustion, de la calcination et même, en partie, ceux qui accompagnent la respiration des animaux».\n",
            "Tutti questi fenomeni, è vero, si possono spiegare, dice allora Lavoisier, con la teoria di Stahl; però bisogna supporre che questa materia del fuoco, questo flogisto, sia fissato in tutti i corpi combustibili. Questo è difficile però a dimostrarsi, e la spiegazione comunemente data non è che una ipotesi per mezzo della quale «en dernière analyse, c’est expliquer la combustion par la combustion».\n",
            "Ma, continua Lavoisier, «si je fais voir que ces mêmes phénomènes peuvent s’expliquer d’un manière tout aussi naturelle dans l’hypothèse opposée, c’est-à-dire sans supposer qu’il existe de matière du feu ni de phlogistique dans les matières appelées combustibles, le système de Stahl se trouvera ébranlé jusque dans ses fondements».\n",
            "Lavoisier suppone dunque che una certa materia del fuoco, imponderabile, esista ovunque, e che essa formi un fluido sottilissimo nel quale le sostanze si disciolgono quando passano allo stato gassoso. Essa, cambiate le parole ed il carattere qui attribuitile di sostanza, assume perfettamente l’ufficio di ciò che oggi designamo come energia calorifica, energia che i fisici meccanicisti vogliono ricondurre ad un’energia di movimento fra delle particelle estremamente, ma non infinitamente piccole, quelle, cioè, che sono dette molecole e che formano, secondo la teoria, le ultime parti della cosidetta materia che possono esistere di per sè.\n",
            "Ogni aria, secondo Lavoisier, è una soluzione di una data sostanza in tale fluido; di tale natura, quindi, è anche quell’aria che Priestley denomina aria deflogisticata e che Lavoisier propone allora di chiamare aria pura. Quando questa si trova in presenza di una sostanza per la quale ha più affinità che non per la materia del fuoco alla quale è unita, allora essa si combina con quella, liberando questa, e dando luogo ai caratteri peculiari di fiamma, calore e luce presentati dal fuoco. Con la velocità della reazione cresce la materia del fuoco liberata tutta in una volta, e più forti ed appariscenti saranno quindi il calore e la fiamma. Nelle reazioni poco veloci, invece, questi fenomeni saranno sensibili in grado minore. Lo zolfo, il fosforo, i metalli si combinano così con l’aria pura. Anche il carbone fa lo stesso, producendo inoltre un acido speciale (cretoso) od aria fissa che si ridiscioglie allo stato di gas. Ammesso ciò non occorre più supporre una immensa quantità di fuoco fissata in tutti i corpi, quale è richiesta dalla teoria del flogisto. E così si spiega anche come non possa avvenire combustione nel vuoto o in combinazioni aeriformi che hanno una grande affinità con la materia del fuoco stesso. Infine Lavoisier espone come anche la respirazione si possa spiegare in tal modo, e come una tale combustione continua sia il fenomeno che mantiene costante il calore animale.\n",
            "Le considerazioni su esposte mentre cominciavano a differenziare Lavoisier, ancora isolato, dalla massa comune dei chimici, prepararono alcuni lavori importanti compiuti in un campo più speciale e che il nostro scienziato compì insieme al grande astronomo Laplace (1749-1827). È doveroso riconoscere, però, come in questi lavori in collaborazione l’influenza predominante fosse quella di Lavoisier. I due scienziati, adunque, in una importantissima memoria del 1780 (alla quale seguirono due altre meno importanti, pubblicate molto più tardi) prendono in esame questa materia del fuoco, misurando appunto il calore che si sviluppa nelle reazioni chimiche. In tal modo si ponevano le basi della termochimica, si immaginavano apparecchi adatti (calorimetro a ghiaccio, etc.) e si determinavano anche fatti e dati importanti sul calore animale.\n",
            "Nel periodo 1777-1783 Lavoisier proseguì attivamente ad occuparsi della nuova dottrina. Egli sviluppa così la sua teoria sulla natura degli acidi, secondo la quale essi sono tutti composti con aria pura. Per questa ragione egli è indotto ad indicarla ora, per la prima volta, col nome di principio ossigino, (da ὀξύς, acido). Osserverò di sfuggita che questa sua teoria non è giusta; essa, generalmente adottata e difesa da grandi chimici come Berzelius, contribuì per un mezzo secolo a rendere incerta questa parte della chimica, fin tanto che il principio acidificante fu riconosciuto dapprima nell’idrogeno, più tardi, con maggiore esattezza, nell’ione idrogeno. Lavoisier continuò ancora a fare altre esperienze sul fosforo e l’acido fosforico, sulla formazione dell’aria fissa, che comincia a denominare acido carbonico, sull’acido nitroso etc. etc. Ma come già ho detto, esisteva un fatto che vulnerava facilmente la sua teoria e che era allora assai meglio spiegato colla ammissione del flogisto. Si sapeva allora, o, meglio, si credeva di sapere, che quando i vari metalli si scioglievano negli acidi, era il metallo calcinato (deflogisticato) che si combinava con l’acido stesso formando i sali relativi, mentre si sviluppava l’aria infiammabile (che Cavendish in un primo tempo credeva di potere voleva far identificare col flogisto). Su ciò non vi era alcun dubbio. Ma, se era vera la teoria di Lavoisier, d’onde veniva quest’aria infiammabile, e dove trovavano i metalli l’aria pura con la quale combinarsi? Bisognava dimostrare, appunto, per poter mantenere la nuova dottrina, che l’acqua non è un elemento semplice, come era ritenuto, ma che essa è composta, e precisamente, in una data proporzione, di due gas, il principe oxygine di Lavoisier e l’aria infiammabile di Cavendish, che poi, appunto per questa ragione, acquisterà il nome di idrogeno (ὕδωρ, acqua).\n",
            "La storia della scoperta della composizione dell’acqua ha dato anche essa origine a numerose polemiche. Watt, Lavoisier, Cavendish sono stati proclamati gli scopritori di questo fatto di importanza capitale nella chimica.\n",
            "Non posso, in un breve profilo, accennare nemmeno lontanamente alle varie opinioni in proposito; noterò solamente come le maggiori probabilità militino a favore dell’esposizione che brevemente riporterò. Allora, pur riconoscendo a Cavendish il merito vero di una tale scoperta, bisogna attribuire, come al solito, all’acuto sguardo di Lavoisier, subito impossessatosi degli accenni degli altri, la valutazione e lo sfruttamento esatto dei nuovi dati a favore della propria teoria.\n",
            "Cavendish fu portato alla scoperta sperimentale della composizione dell’acqua da considerazioni teoriche, derivate dalla teoria del flogisto. In seguito alle ultime scoperte sui gas ed al riconoscimento che l’aria era composta di due parti, l’una deflogisticata, l’altra flogisticata, Cavendish aveva, con analisi accurate, e rimaste classiche, determinato che queste stanno fra di loro, in volume, nel rapporto 4:1 (in cifra tonda). Si cercava allora il mezzo di flogisticare la parte deflogisticata dell’aria atmosferica. In questa operazione (nella quale si adoperava il biossido d’ azoto (che ha la proprietà di combinarsi con l’ossigeno e formare il tetrossido) sorgeva il problema di ricercare che cosa avvenisse dell’aria che spariva o si condensava. Abbiamo detto che Cavendish ammetteva che la sua aria infiammabile rappresentasse il flogisto; egli pensò, quindi, di adoperare direttamente questa invece dell’aria nitrosa per flogisticare l’aria deflogisticata. Si credeva allora da molti che una tale flogisticazione producesse aria fissa; Cavendish potè dimostrare che ciò non avviene, ma che invece, facendo scoccare una scintilla elettrica nel miscuglio dei due gas, si formava l’acqua. Lo scienziato inglese determinò anche il rapporto (2:1 in volume) nel quale la reazione avveniva nel modo migliore. Usando la sua terminologia Cavendish riconobbe allora che l’aria deflogisticata era acqua deflogisticata, ed, abbandonando la sua teoria primitiva che supponeva l’aria infiammabile esser puro flogisto, venne ad ammettere che essa fosse un composto di acqua e flogisto.\n",
            "L’osservazione che l’aria infiammabile bruciando produceva una nebbia, o una umidità, era stata già fatta (da Warltire in maniera occasionale). Priestley, parlandone con altri, aveva, in particolare, determinato Watt ad esprimere delle idee simili a quelle sostenute da Cavendish; a questi però spetta senza dubbio il merito di avere condotta con metodo e cura l’esperienza ed enunciato la teoria. La memoria nella quale Cavendish pubblicò questi suoi risultati è dal 1784; ma le sue prime esperienze, ben presto note ai suoi conoscenti, sono del 1781.\n",
            "Due anni dopo, nel 1783, un amico del chimico inglese, Blagden, trovandosi a Parigi (giugno), informò Lavoisier delle esperienze suddette. Lavoisier, con un lampo di genio, vide subito le conseguenze che egli poteva ritrarre dai nuovi fatti, ed, insieme con Laplace, ripetè le esperienze il 24 giugno 1783. Pochi giorni dopo (si noti bene questo) Laplace scriveva a Deluc annunziandogli che egli, insieme con Lavoisier, aveva ripetuto le esperienze di Cavendish, ma che essi non sapevano ancora se la quantità di acqua ottenuta corrispondesse al peso dei due gas uniti. Nel novembre dello stesso anno Lavoisier comunica le sue esperienze; nel fascicolo di decembre del giornale del Rozier esce una memoria provvisoria, dalla quale chiaramente risulta che sono state ripetute le esperienze di Cavendish. Ma nell’anno seguente le cose cambiano di aspetto. Nelle memorie della Accademia delle scienze per il 1781 (pubblicate appunto nel 1784), viene ristampata in forma più estesa questa memoria, ed un’altra di Lavoisier e Meusnier che tratta ancora di questo soggetto ed in particolare della decomposizione dell’acqua in idrogeno ed ossigeno (mediante il ferro che ossidandosi libera l’idrogeno). Ma qui Lavoisier rivendica per sè la scoperta della composizione dell’acqua!! Non occorrono commenti su questa attitudine del chimico francese!\n",
            "Lasciamo però da parte la questione della priorità della scoperta della composizione dell’acqua e consideriamo la semplicità che la descrizione del fenomeno per mezzo della nuova terminologia e teoria di Lavoisier viene ad assumere in confronto alle complicazioni di parole e di concetti dei quali Cavendish era costretto a servirsi. E mentre inoltre questi era forzato ad abbandonare la sua identificazione di aria infiammabile e flogisto (cosa che altri flogistici non vollero ammettere), Lavoisier poteva agevolmente dimostrare come nell’azione degli acidi sui metalli, questi dall’acqua prendevano l’ossigeno che loro abbisognava, mentre ponevano in libertà l’altro componente di essa, l’idrogeno.\n",
            "Con quest’ultima scoperta la teoria antiflogistica comincia ad affermarsi rapidamente nel mondo e solo da allora con buon diritto. E se i grandi chimici, che pure avevano con la loro opera contribuito notevolmente a fondare la nuova dottrina, ma che avevano ormai plasmata la loro mente alla vecchia concezione, si attaccavano disperatamente al vecchio mondo che crollava, le nuove generazioni, in compenso, marciarono con Lavoisier.\n",
            "Questo fatto si verificò appunto in seguito alla scoperta della composizione dell’acqua, alla spiegazione del fenomeno data da Lavoisier, ed alla memoria già citata Réflexion sur le phlogistique, nella quale il chimico francese, riannodandosi alle sue considerazioni primitive ed ai fatti ultimamente conosciuti (compreso quello relativo all’acqua) assume finalmente un’attitudine del tutto ostile contro la teoria di Stahl, e, sicuro ormai di sè, la batte in breccia senza darle quartiere in alcun punto.\n",
            "Le Réflexions citate sono accolte nelle memorie dell’Accademia del 1783, che furono pubblicate nel 1786; però è fuor di dubbio (Kahlbaum-Hoffman) che la memoria non poteva essere stata scritta prima del 1785. Questa deplorevole confusione di date ha contribuito non poco a deprimere gli scienziati contemporanei a favore di Lavoisier il quale, secondo la data falsa, già nel 1783 avrebbe dovuto così conoscere la composizione dell’acqua ed avere emesso idee sviluppate solo più tardi.\n",
            "Fra i primi che aderirono alle nuove teorie troviamo un gruppo di chimici francesi che, più o meno meritamente dovevano salire in gran fama. Essi sono Guyton de Morveau (1737-1816), Fourcroy (1755-1809), ed un vero grande chimico, il savoiardo Claude Louis Berthollet (1748-1822).\n",
            "Questi tre chimici si convertirono alla nuova teoria nel periodo che va dal 1785 al 1787, ed in questo ultimo anno, appunto, pubblicarono insieme a Lavoisier un volume Méthode de nomenclature chimique proposée par M. M. de Morveau, Lavoisier, Berthollet et de Fourcroy.\n",
            "La necessità di abbandonare l’antica terminologia chimica, complicatissima ed ingombrante, era generalmente sentita. Guyton de Morveau se ne era già occupato, ed in tal modo era entrato in frequenti contatti con l’Accademia, ed in particolare con Lavoisier. Il lavoro collettivo dei quattro chimici fu cominciato verso la metà del 1786; a base della nomenclatura fu posta la nuova teoria nella quale la parte principale è rappresentata dall’ossigeno. È inutile che io rammenti qui le nuove denominazioni perchè, a parte i nuovi elementi scoperti e le necessarie amplificazioni subìte coll’aumentare dei fatti raccolti, la nomenclatura allora stabilita è precisamente quella in uso oggigiorno e che si ritrova nelle prime pagine di qualunque trattato di chimica moderna. Essa, come è noto, denominando le varie sostanze per mezzo degli elementi che le compongono, richiamò ancor maggiormente l’attenzione degli scienziati sulla composizione elementare delle sostanze, e contribuì così a precisare con maggior rigore ed esattezza il concetto stesso di elemento. Questo concetto, che aveva acquistato il suo senso moderno con Boyle, viene con Lavoisier ad assumere definitivamente quindi la sua attuale significazione. Ed una prova di ciò si ha nella tabella degli elementi che troviamo nel Traité de chimie, di Lavoisier stesso. In esso non vediamo, evidentemente, gli elementi scoperti più tardi, e possiamo notare ancora, come residuo atavico, i nomi dei due fluidi imponderabili, luce e calore, che allora erano ancora concepiti come materia, ma nel complesso la tavola ha un aspetto del tutto moderno ed anche le terre (ossia gli ossidi dei metalli alcalino-terrosi) che vi sono comprese, sono altrove intuite come composte, mentre questo è affermato esplicitamente per gli alcali.\n",
            "Nel 1789, infine, Lavoisier, coronando la sua opera sintetica e sistematica monumentale pubblica il Traité élementaire de chimie presenté dans un ordre nouveau et d’après les découvertes modernes. Con quest’opera il fondatore della chimica nuova compie ed esaurisce la sua opera benefica e rivoluzionaria. Negli anni seguenti la lotta per fare accettare la chimica antiflogistica entro più ampia cerchia verrà attivamente proseguita, ma la teoria è ormai definitivamente fondata, e con essa è compiuta la vera, la grande opera di Lavoisier. La mannaia che, cinque anni dopo, dovrà far cadere la testa dell’illustre accademico, compirà atto nefando perchè, in via generale non è lecito, nè uccidere un uomo nè chiedere la sua morte per qualsiasi ragione, in particolare poi, perchè, forse, alcuni dei succhioni (sangsues) del tempo, gli appaltatori generali, anche ammessa la legge di allora, non meritavano una tal pena, e non erano stati poi giudicati in modo legale; ma quella stessa mannaia non troncherà il cammino di un’idea scientifica, perchè l’opera imperitura di Lavoisier quella di chiudere definitivamente un’era di ricerche e di studî, l’era, come ho già detto, del periodo pneumatico, era ormai terminata.\n",
            "Il Traité de chimie si divide in tre parti.\n",
            "La prima, che è quella veramente fondamentale ed originale dell’opera, tratta di tutte le esperienze e le considerazioni che inducono a fondare la teoria della nuova chimica antiflogistica. Dopo avere trattato dei fluidi elastici come combinazione delle varie sostanze con il calore (cap. 1), Lavoisier passa a considerare la composizione della atmosfera ed i suoi componenti (2-4). Indi tratta della combustione dello zolfo, del fosforo e del carbone, della formazione e nomenclatura degli acidi e della calcinazione dei metalli (5-7). Il capitolo seguente (8) tratta della composizione dell’acqua. Seguono delle considerazioni termochimiche (9) e vengono esaminati varî composti, in particolare anche organici. Gli ultimi capitoli trattano delle varie fermentazioni (13-15) e della formazione e natura dei sali (16-17).\n",
            "La seconda parte, oltre l’importante tabella degli elementi, che già ho ricordato, contiene una serie di tavole dei diversi composti allora conosciuti, ordinati secondo la loro base, insieme a diverse osservazioni. Questa parte dà un’idea esatta delle sostanze allora conosciute e del modo come erano considerate.\n",
            "La terza parte, infine, è un manuale nel quale si descrivono gli apparecchi e le operazioni che erano usati allora in chimica. Anche questa parte contiene molte notizie importanti sugli apparecchi immaginati ed usati da Lavoisier stesso.\n",
            "*\n",
            "Prima di chiudere questo accenno sull’opera scientifica di Lavoisier, rammenterò brevemente qualche altra parte della scienza nella quale egli svolse la sua attività.\n",
            "Lavoisier si occupò più volte degli stati fisici della materia. Fece alcune esperienze bruciando il diamante ed addimostrando che in tal caso si otteneva aria fissa (1772). A lui si devono parecchi studî sulle fermentazioni, delle quali parla a lungo anche nel suo Traité. In particolare egli studia la fermentazione vinosa, quella cioè nella quale il mosto, o meglio lo zucchero d’uva, si scompone in alcool ed acido carbonico; e notevoli contributi egli porta sulla conoscenza delle fermentazioni putride, della fermentazione acetosa, etc. Da Lavoisier si possono datare ancora i principî dell’analisi elementare organica, quell’analisi, cioè, che cerca di stabilire la composizione delle sostanze organiche abbruciandole e pesandone il carbonio e l’idrogeno come acido carbonico ed acqua. Le idee sulla distinzione fra corpi semplici e composti sono una conseguenza dei suoi studî di nomenclatura, come già ho accennato. Infine grande è l’importanza di Lavoisier per la fisiologia, e ciò per le sue esperienze sulla respirazione, fatte, come già ho accennato, in relazione alle sue teorie sulla combustione, ma che, per alcune parti, oltrepassano anche il campo per il quale erano state cominciate. In questi studi, oltre paragonare la respirazione alla combustione, egli osservò che non tutto l’ossigeno aspirato veniva poi emesso sotto forma di acido carbonico, ma che una parte di esso si combinava con un altro elemento delle sostanze organiche, ossia l’idrogeno, formando acqua. Ho già accennato altrove, poi, a quella legge della conservazione della materia, che, sebbene sottointesa, gli fu guida costante nei suoi esperimenti, e che, in gran parte per opera sua, arriva a formare uno dei canoni fondamentali dei fisici e chimici del sec. XIX.\n",
            "*\n",
            "Nel 1789 col Traité de chimie si compiva la rivoluzione chimica per opera di Lavoisier. Nello stesso anno si iniziava la grande rivoluzione politica della Francia. Quale fu l’attitudine del Nostro in questa vicenda storica?\n",
            "Uomo del sec. XVIII, non mancano certamente nei suoi scritti, nelle sue conferenze, nella sua molteplice azione amministrativa e finanziaria, le frasi comuni nel ceto delle persone intelligenti di allora, e che inneggiano alla fraternità, al benessere degli uomini, ad un regime fondato sulla Ragione e sulla Giustizia. Ma, scoppiata la rivoluzione e passata l’applicazione della Ragione dalle accademie alla piazza, il nostro scienziato, più di altri, dovette provare un senso di disagio, e, piuttosto che seguirli volonteroso, dovette, essere fin dal principio trascinato a malavoglia dall’incalzare degli eventi.\n",
            "Questo suo stato di animo si palesa, fra altro, in una lettera a Franklin, datata dal 5 febbraio 1790, nella quale egli si esprime nel modo seguente:\n",
            "«Après vous avoir entretenu de ce qui se passe dans la chimie, ce serait bien le cas de vous parler de nostre révolution politique; nous la regardons comme faitte et bien faitte sans retour; il existe cependant encore un parti aristocratique qui fait de vains effort et qui est evidemment le plus faible. Le parti démocratique a de son côté le plus grand nombre, et de plus l’instruction, la philosophie et les lumières. Les personnes modérées et qui ont conservé leur sang-froid dans cette effervescence générale pensent que les circostances nous ont entrainés trop loin, qu’il est fâcheux qu’on ait été obligé d’armer le peuple et tous les citoyens; qu’il est impolitique de placer la force entre les mains de ceux qui doivent obéir, et qu’il est à craindre que l’établissement de la nouvelle constitution n’éprouve des obstacles de la part de ceux mêmes en faveur de qui elle a été faitte....»\n",
            "Come la grande maggioranza degli scienziati, però, egli avrebbe, di buona o di mala voglia, oltrepassato il periodo più critico della rivoluzione, dando la sua opera veramente pregevole alle varie commissioni scientifiche, alle quali veniva insistentemente chiamato, per l’alta fama raggiunta come scienziato, per il suo intrinseco valore e per la sua attività. Il suo contegno veramente non troppo brillante per civisme, e che gli era rabbiosamente rimproverato dall’invidioso Marat, la parte sua preponderante come direttore della disciolta Académie des Sciences, non ne avrebbero fatto una vittima, se egli non fosse stato un membro della ferme générale.\n",
            "Alla convocazione degli Stati generali, Lavoisier prese parte politica attiva compilando i cahiers della nobiltà di Blois (località dove possedeva il castello di Fréchines e delle terre nelle quali non aveva trascurato di fare fruttuose esperienze agricole), e fu anche eletto deputato supplente per lo stesso ordine.\n",
            "Fu anche membro della Commune. Egli era allora anche régisseur della regia delle polveri, anzi, per ragioni dipendenti da questa sua carica, dovette subire una violenta dimostrazione popolare originatasi per un trasporto di polveri che si credeva fatto per privare di esse i cittadini della capitale della Francia.\n",
            "La Societé de 89 lo annoverò come uno dei suoi membri più attivi. È noto che questo club, che comprendeva i più eminenti monarchici costituzionali, aveva tendenze relativamente aristocratiche. Esso, mentre quello dei giacobini andava continuamente aumentando per importanza e per aderenze, ben presto declinò fino a scomparire dalla scena politica, lasciando la taccia di incivisme a tutti coloro che ne avevano fatto parte.\n",
            "Nei primi anni della rivoluzione Lavoisier fu chiamato a partecipare a numerose commissioni. Fu così commissario nella Trésorerie nationale, rifiutando per scongiurare lo sfavore popolare, qualunque compenso per la sua carica. Nel 1791 fu nominato nella Commissione dei pesi e misure, sorta per stabilire un unico e razionale sistema che potesse servire universalmente, e che gettò le basi del sistema metrico decimale. L’incarico più speciale di Lavoisier era quello di determinare (insieme ad Haüy) il peso nel vuoto di un volume d’acqua distillata a 0°; egli inoltre, fino al suo arresto, fu tesoriere e segretario della commissione.\n",
            "Intanto stava pericolando la sorte dell’Académie des Sciences. Nominato tesoriere di essa (nel decembre 1791) egli ebbe gran parte nei tentativi fatti per salvare la dotta istituzione. Alla sorte della Accademia non fu estraneo il livore di Fourcroy. Il futuro adulatore di Napoleone che, dicesi, morì dalla gioia, apprendendo di essere stato fatto conte dell’impero, voleva allora brillare per il suo civismo, e, forse, covava già dei disegni ostili contro Lavoisier che valeva molto più di lui. Fourcroy, dunque, seguendo l’andazzo del tempo, il 25 aprile 1792 propose che l’Académie scacciasse dal suo seno i membri sospetti. La proposizione fu abilmente eliminata dalla maggioranza, non ostante le insistenze di Fourcroy. Questi, però, non dimenticò certamente lo scacco subito, e se ne rifece quando divenne potente nella Convenzione.\n",
            "In novembre l’Académie, per rafforzare la sua posizione, decise di presentarsi in massa alla Convenzione per far conoscere ad essa lo stato dei lavori della Commissione dei pesi e misure che appunto da essa emanava. Borda lesse il suo rapporto; l’accoglienza ricevuta fu favorevole, e la Convenzione, per bocca del suo presidente, rispose in modo assai lusinghiero. Ma la bonaccia doveva durare poco, nonostante che ancora per qualche tempo seguisse uno scambio di cortesie, e che il governo si servisse di questa società, che accoglieva i migliori scienziati di Francia, per risolvere molti problemi di indole tecnica e scientifica. Così mentre in un rapporto del 1 agosto 1793 la Convenzione, decretando l’uniformità delle misure, felicitava l’Accademia del suo lavoro, appena sette giorni dopo (8 agosto) essa stabiliva la soppressione di tutte le Società scientifiche. Gli sforzi per salvare almeno l’Accademia delle scienze furono vani, ed anche essa dovette soccombere. Ciò nonostante molte delle Commissioni che erano emanazione di essa, come quella dei pesi e misure, continuarono a funzionare.\n",
            "Negli ultimi suoi anni Lavoisier prese parte attivissima ai lavori del Bureau de consultation des Arts et Métiers, fondato con legge del 13 settembre 1791, con l’ ufficio di dare al governo indicazioni sulle invenzioni utili allo stato, e per distribuire ricompense. Egli si occupò principalmente dell’organizzazione dell’istruzione, e dobbiamo appunto al Nostro delle importanti Réflexions sur l’instruction publique présentées à la Convention nationale. Lavoisier prese parte alle sedute di questo ufficio fino al giorno del suo arresto.\n",
            "*\n",
            "Intanto il fato incalzava e i giorni di Lavoisier erano contati. La compagnia degli appaltatori generali era troppo odiata, i suoi uomini erano stati troppo rappresentativi nell’antico regime perchè fosse probabile che essi sfuggissero al turbinio del terrore. Lavoisier, poi, appunto perchè scienziato grande e riconosciuto, membro autorevole della disciolta Accademia delle scienze e di numerose commissioni scientifiche, era più esposto di altri. Sopratutto lo colpiva l’invidia di colleghi chimici che egli senza alcun dubbio, eccettuato forse Berthollet, enormemente superava per larghezza di idee, valore scientifico, potenza sintetica. Quel Guyton de Morveau, quel Fourcroy, quel Berthollet che abbiamo visti convertiti alla chimica nuova, collaborare con Lavoisier nello stabilire la nuova nomenclatura chimica, e che un giorno strisceranno servilmente ai piedi della tirannia napoleonica, erano allora, come sanculotti arrabbiati, parte influente del governo della Convenzione. Nessuno di loro si mosse per salvare l’illustre maestro, cosa che avrebbero potuto fare assai facilmente, come risulta anche dall’andamento del processo e dai numerosi favoritismi che allora si esercitarono; bisogna anzi credere che essi nascostamente soffiassero nel fuoco e cercassero di liberarsi dal pericoloso rivale. Insieme coi suddetti chimici si devono rammentare a titolo di biasimo anche i nomi di due altri scienziati, Monge e Hassenfratz, allora assai potenti.\n",
            "Quale differenza fra di essi ed alcuni pochi nobili uomini di scienza quali Borda, Lagrange, Haüy ed alcuni altri, che, per quanto meno potenti, difesero il collega e ne onorarono la memoria!\n",
            "L’odio del popolo contro gli appaltatori generali era bene manifesto; le dicerie notevolmente esagerate sulle loro ricchezze facevano credere che, confiscando i loro beni, si sarebbero potute riempire le esauste casse dello stato; antichi impiegati poi della ferme générale, che avevano motivi di rancore contro gli antichi padroni, non mancavano di portare le loro accuse e ad inventare calunnie. La tempesta quindi non poteva tardare.\n",
            "La ferme générale era stata disciolta il 20 marzo 1791 e l’appalto era stato considerato troncato col 1º luglio 1789. Il rendimento dei conti fu affidato a sei degli antichi appaltatori; fra questi non fu compreso Lavoisier. La liquidazione andò per le lunghe, anche perchè per un certo periodo i liquidatori furono incaricati di proseguire la vendita dei sali e tabacchi che si trovavano nei magazzini. Frattanto, mentre la rivoluzione proseguiva il suo corso ascendente, aumentava ancora l’odio contro tutta la gente di finanza. Un indice di un siffatto stato d’animo è la proposta fatta da Carra alla Convenzione il 26 febbraio 1793. Secondo essa si sarebbe dovuto nominare una commissione per riconoscere i delitti dei finanzieri fin dal 1740, e in conseguenza, si sarebbe dovuto reclamare e fare restituire, tutto ciò che era stato frodato allo stato. «Non» si leggeva nei considerando del progetto «vous ne laisserez pas ces stupides sangsues dans l’ombre du repos sans les faire dégorger de tout le sang qu’elles ont sucé sur le corps du peuple. Législateurs, il n’y a point de temps à perdre; tous ces voleurs de deniers public, ces sangsues du peuple, ces exécrables agioteurs vont se hâter de vendre leurs possessions territoriales et de fuir en portant à vos ennemis le reste de la fortune pubblique, si vous ne vous hâtez vous-mêmes de les prévenir».\n",
            "La guerra contro gli appaltatori generali, che ebbe una tregua relativa durante la lotta fra i girondini e la montagna, si riaprì poi ancora più feroce. La commissione liquidatrice fu disciolta (giugno) e furono messi i sigilli alle carte; in settembre i sigilli furono posti anche al domicilio di Lavoisier, che pur pochi giorni innanzi era stato nominato dal comitato d’istruzione pubblica a far parte di quella commissione di pesi e misure che doveva introdurre il sistema metrico decimale. I sigilli furono poi tolti e nell’aprile del 1794 la commissione liquidatrice potè riprendere i suoi lavori; ma ben presto nuove nubi si addensarono. In settembre 1794, per opera di Antoine Dupin, fu data veste ufficiale ad una commissione presentatasi spontaneamente per denunciare tutti gli abusi nella antica amministrazione delle finanze. Il quattro frimaio (14 novembre), poi, Bourdin chiese che gli appaltatori fossero arrestati. La proposta fu approvata per tutti coloro che avevano firmati gli appalti David, Salzard e Mager; fra questi, come sappiamo, si trovava anche Lavoisier. Questi rimase nascosto alcuni giorni, ma quando vide che una sua domanda di libertà, chiesta per potere attendere alla commissione di pesi e misure, non era stata accolta, si presentò spontaneamente (8 frimaio).\n",
            "Gli appaltatori furono rinchiusi nell’antico convento di Port Royal, che verso la fine del 1793 era stato trasformato in prigione ed aveva assunto il nome di Port Libre. Ivi Lavoisier attese a preparare la redazione definitiva di alcune sue memorie che poi furono pubblicate postume dalla moglie. Alcuni tentativi fatti per liberarlo restarono infruttuosi. La Commissione dei pesi e misure, con un appello datato dal 28 frimaio e firmato da Borda, presidente, e da Haüy, segretario, fece osservare al Comité de sureté générale che la detenzione del cittadino Lavoisier aveva interrotto i lavori del Comitato e che «il était urgent qu’il put être rendu aux travaux importants qu’il a toujours suivis avec autant de zèle que d’activité». La richiesta non fu accolta; due giorni dopo, invece, la Commissione veniva epurata, radiandone i nomi di Borda, Lavoisier, Laplace, Coulomb, Brisson e Delambre. Sorte poco diversa toccò ad altre petizioni. E così rimase senza effetto un rapporto che rammentava i meriti di Lavoisier come scienziato, che era firmato da Coulomb, Servières, Hallé, e che era stato adottato in una seduta del Bureau de consultation des Arts et Métiers presieduta da Lagrange. Nemmeno i passi fatti più tardi per salvare il marito da Madame Lavoisier presso l’accusatore più forte degli appaltatori, Dupin, ebbero successo, nonostante le buone disposizioni che questi aveva già espresso. A ciò non è estraneo il fatto che Madame Lavoisier, presentatasi alteramente al colloquio che Dupin aveva mostrato di gradire, disse a questi che suo marito non avrebbe diviso la sua causa da quella degli altri appaltatori, e che, nel caso, essi sarebbero tutti morti innocenti. Questo contegno altero dispiacque al potente deputato, e ciò che forse era l’ultima ancora di salvezza andò perduto.\n",
            "Non è fuor di luogo ricordare qui un incontro che avvenne durante una delle tante vicende giudiziarie subite da Lavoisier. Aprendosi i sigilli al castello di questi a Fréchines, presenziarono come delegati del comitato d’istruzione pubblica, incaricati di ritirare gli oggetti della commissione dei pesi e misure, Guyton de Morveau e Fourcroy. Essi compirono il loro ufficio mentre Lavoisier, tenuto fra due gendarmi, era presente e poteva osservare, come rappresentanti del governo che lo imprigionava, due di coloro che altre volte avevano umilmente sollecitato il suo appoggio.\n",
            "Il 5 nevoso (24 decembre) gli appaltatori generali furono trasportati al palazzo della Ferme, trasformato in prigione, affinchè potessero preparare il rendimento dei conti insistentemente richiesto. La resa avvenne il 27 gennaio 1794; ma i commissari revisori, nominati dalla Convenzione, e Dupin, nel suo rapporto, non giudicarono innocenti gli appaltatori; essi imputarono loro vari reati che qui non è il caso di esaminare partitamente. Uno dei capi d’ accusa, però, che fece maggior effetto, oltre quello ordinario dell’intesa con gli stranieri, fu quello della maullade del tabacco; con questa operazione, diceva l’accusa, essi si erano fatti pagare una grande quantità di acqua al prezzo di tabacco, ed avevano venduto un prodotto pericolosissimo alla salute pubblica. Nel complesso gli appaltatori furono denunciati come debitori verso lo stato per 130 milioni da essi rubati.\n",
            "Il 16 floreale (5 maggio 1794) Dupin presentò alla Convenzione la sua requisitoria contro gli appaltatori generali. Il giorno stesso l’assemblea decise che questi sarebbero stati tradotti davanti al tribunale rivoluzionario. Il decreto fu registrato il 18 floreale; ma tutto era già stato preparato per l’innanzi contro gli accusati, i quali la sera stessa del 16 furono condotti dalla loro prigione al palazzo della Ferme a quella della Conciergerie.\n",
            "In questa ultima prigione Lavoisier ebbe ancora una testimonianza di affetto da parte del Licée des arts che inviò appunto una deputazione a questo scopo. Ma l’ora incalzava. Il 18 gli accusati furono interrogati. La mattina del 19 (8 maggio 1794) all’alba essi furono condotti innanzi al tribunale. Il processo si svolse, come d’ordinario, rapidamente e unilateralmente. Alcuni pochi, protetti da Robespierre, furono salvi; ma i rimanenti, ventotto in tutto, furono condannati a morte sotto l’accusa ordinaria di complicità con gli stranieri e per intesa coi nemici della Francia. Può darsi che durante questo processo sia stata pronunziata da Coffihal, che presiedeva il tribunale, la frase rimasta famosa: «La république n’a pas besoin de savants, il faut que la justice suive son cours». L’esecuzione della condanna doveva avvenire entro 24 ore. I carri, pronti, attendevano; essi riportarono immediatamente i condannati alla Conciergerie. Qui, consegnati al boia, furono subito condotti alla place de la Révolution dove funzionava la ghigliottina. La testa di Paulze cadde la terza; dopo il suo suocero venne la volta di Lavoisier. Erano le 5.\n",
            "Si racconta che l’indomani Lagrange dicesse a Delambre: «Il ne leur a fallu qu’un moment pour faire tomber cette tête, et cent années peut-être ne suffiront pas pour en reproduire une semblable».\n",
            "Ma frattanto i giornali insultavano i morti, ed uno di essi, anzi, opponeva il sangue scorso sulla ghigliottina aux lits de pourpre sur lesquels les fermiers généraux étendaient leur mollesse.\n",
            "La condanna degli appaltatori generali era stata, non fosse altro che dal lato giuridico, una vera illegalità. La cosa venne ben presto riconosciuta ufficialmente non appena, dopo il 9 termidoro (27 luglio) la rivoluzione, con la caduta e la morte di Robespierre, si avviò velocemente per la sua via di discesa. M.me Lavoisier, che era stata arrestata, fu messa in libertà (30 term.); i beni mobili furono resi alle famiglie degli appaltatori (13 ventoso III, 3 maggio 1795); Dupin stesso, che era stato l’accusatore più terribile, cercò di riversare tutte le colpe sulla fazione di Robespierre, che voleva battre monnaie sur la place de la Révolution, in pochi anni si riconobbe così l’ingiustizia di quella esecuzione, e tutti i beni furono restituiti essendosi provato che il debito reclamato era inesistente.\n",
            "Insieme al riconoscimento suddetto andarono aumentando gli onori resi pubblicamente alla memoria di Lavoisier. In una solenne tornata (ottobre 1795) del Lycée des arts furono inaugurati due busti, uno in onore di Lavoisier, l’altro in quello del chirurgo Desault. In questa occasione fu pronunciato un discorso commemorativo da Lagrange (o Lalande?). Un anno dopo (agosto 1796), con tutta la coreografia esagerata dell’epoca, fu in onore di Lavoisier fatta una specie di rappresentazione simbolica, col concorso di numerosi cori. Al termine di essa, in mezzo agli attori plaudenti, apparve una piramide decorata del busto di Lavoisier dont la tête était cinte de la couronne immortelle décernée au génie, come dice una cronaca dell’epoca.\n",
            "*\n",
            "Ho cercato di tratteggiare brevemente la figura di Lavoisier, non addentrandomi troppo nell’esame tecnico delle sue opere, e riportando solamente l’indispensabile per far capire la sua importanza nella storia della scienza ed i suoi rapporti con la scienza a lui contemporanea. Nel chiudere, però, riprendendo un’idea accennata in principio, credo dovere notare ancora espressamente come Lavoisier ci rappresenti in modo mirabile il tipo del genio che deve la sua forza ad una vasta potenza di sintesi e di organizzazione, ad un acuto sguardo che riconosce negli accenni degli altri il punto buono e suscettibile di proficuo sviluppo, ad una felice spregiudicatezza rispetto ai dogmi scientifici del tempo. Ma, d’altra parte, il fatto ormai ben riconosciuto che tutto il suo edificio sperimentale e teorico è direttamente basato sopra lavori di altri, ci dà nella storia uno degli esempi più belli dell’importanza che, anche nello sviluppo del pensiero, ha il lavoro della collettività, spesso della collettività anonima e oscura, della quale i geni sono solamente come una vetta fiorita di un albero altissimo che si vede e si ammira da lungi, ma che deve questa sua prerogativa al tronco nodoso e robusto che lo sostiene, ai rami laterali ed alle foglie che compiono l’assimilazione della sostanza organica che lo alimenta, alle radici profonde e sottili che, penetrando entro le oscure latebre della terra, lo sostengono contro l’infuriare dei venti e gli procurano le sostanze minerali delle quali ha bisogno.\n",
            "Bibliografia\n",
            "Le diverse memorie di Lavoisier si trovano per lo più pubblicate nelle Mémoires de l’Académie des sciences, nel periodico Observations sur la Physique (citato anche come Journal de Physique) dell’abate Rozier e negli Annales de chimie fondati da Adet e da Lavoisier nel 1789 (Essi, in seguito all’arresto di Lavoisier, furono sospesi dal 1793 al 1796; la pubblicazione fu poi continuata fino ad oggi). Per la cronologia si deve notare che le Mémoires de l’Académie per un dato anno si pubblicavano con alcuni anni di ritardo, in modo che non solamente gli autori potevano correggere e modificare le loro memorie con le idee e le esperienze aggiunte più tardi, ma inserirvi anche memorie di data posteriore. Per fissare la data esatta e la forma primitiva di alcuni lavori, cosa molto importante per quello che riguarda Lavoisier, bisogna perciò ricorrere ad altri criteri, ed in particolare al periodico dell’abate Rozier. Purtroppo nella edizione delle Oeuvres complètes del grande chimico francese è stata adottata senz’altro, la forma e la data delle Mémoires de l’Académie. Come volumi a parte furono pubblicati:\n",
            "Opuscules physiques et chymiques. I. Paris 1774, xxx, 360 pagine. In 8.\n",
            "M\n",
            "\n"
          ]
        }
      ]
    },
    {
      "cell_type": "code",
      "metadata": {
        "colab": {
          "base_uri": "https://localhost:8080/"
        },
        "id": "-RjzQtsTc_ID",
        "outputId": "a06b13cb-865a-4c8b-e006-a9698dac4580"
      },
      "source": [
        "start_indx=text.find('Chi esamina per la prima volta il complesso e meraviglioso ')\n",
        "end_indx=text.find('Opuscules physiques et chymiques. I. Paris 1774, xxx, 360 pagine. In 8.')\n",
        "\n",
        "text=text[start_indx:end_indx]\n",
        "char_set=set(text)\n",
        "print('lunghezza totale:',len(text))\n",
        "print('caratteri unici',len(char_set))"
      ],
      "execution_count": null,
      "outputs": [
        {
          "output_type": "stream",
          "name": "stdout",
          "text": [
            "lunghezza totale: 98305\n",
            "caratteri unici 110\n"
          ]
        }
      ]
    },
    {
      "cell_type": "markdown",
      "metadata": {
        "id": "QOIu2YiNd0UC"
      },
      "source": [
        "Convertiamo il testo in valori numerici"
      ]
    },
    {
      "cell_type": "code",
      "metadata": {
        "colab": {
          "base_uri": "https://localhost:8080/"
        },
        "id": "118DQyLFd2xs",
        "outputId": "9b4240e7-94a5-4671-d8c9-e88849749ef3"
      },
      "source": [
        "chars_sorted = sorted(char_set)\n",
        "char2int = {ch:i for i,ch in enumerate(chars_sorted)}\n",
        "char_array = np.array(chars_sorted)\n",
        "\n",
        "text_encoded = np.array(\n",
        "    [char2int[ch] for ch in text],\n",
        "    dtype=np.int32)\n",
        "\n",
        "print('Text encoded shape: ', text_encoded.shape)\n",
        "\n",
        "print(text[:15], '     == Encoding ==> ', text_encoded[:15])\n",
        "print(text_encoded[15:21], ' == Reverse  ==> ', ''.join(char_array[text_encoded[15:21]]))"
      ],
      "execution_count": null,
      "outputs": [
        {
          "output_type": "stream",
          "name": "stdout",
          "text": [
            "Text encoded shape:  (98305,)\n",
            "Chi esamina per      == Encoding ==>  [25 54 55  1 51 65 47 59 55 60 47  1 62 51 64]\n",
            "[ 1 58 47  1 62 64]  == Reverse  ==>   la pr\n"
          ]
        }
      ]
    },
    {
      "cell_type": "markdown",
      "metadata": {
        "id": "yhJwGnqHeREA"
      },
      "source": [
        "Creazione del dataset tensorfòlow"
      ]
    },
    {
      "cell_type": "code",
      "metadata": {
        "colab": {
          "base_uri": "https://localhost:8080/"
        },
        "id": "iSOgmfLheQhj",
        "outputId": "70d910e1-017a-4604-8beb-c8522e996548"
      },
      "source": [
        "import tensorflow as tf\n",
        "\n",
        "\n",
        "ds_text_encoded = tf.data.Dataset.from_tensor_slices(text_encoded)\n",
        "\n",
        "for ex in ds_text_encoded.take(5):\n",
        "    print('{} -> {}'.format(ex.numpy(), char_array[ex.numpy()]))"
      ],
      "execution_count": null,
      "outputs": [
        {
          "output_type": "stream",
          "name": "stdout",
          "text": [
            "25 -> C\n",
            "54 -> h\n",
            "55 -> i\n",
            "1 ->  \n",
            "51 -> e\n"
          ]
        }
      ]
    },
    {
      "cell_type": "markdown",
      "metadata": {
        "id": "Kd2YQGilfEvi"
      },
      "source": [
        "Ulteriore preelaborazione"
      ]
    },
    {
      "cell_type": "code",
      "metadata": {
        "colab": {
          "base_uri": "https://localhost:8080/"
        },
        "id": "2lFzbfecfHC9",
        "outputId": "d4e2884b-e118-4141-e810-c48582084d68"
      },
      "source": [
        "seq_length = 40\n",
        "chunk_size = seq_length + 1\n",
        "\n",
        "ds_chunks = ds_text_encoded.batch(chunk_size, drop_remainder=True)\n",
        "\n",
        "## inspection:\n",
        "for seq in ds_chunks.take(1):\n",
        "    input_seq = seq[:seq_length].numpy()\n",
        "    target = seq[seq_length].numpy()\n",
        "    print(input_seq, ' -> ', target)\n",
        "    print(repr(''.join(char_array[input_seq])), \n",
        "          ' -> ', repr(''.join(char_array[target])))"
      ],
      "execution_count": null,
      "outputs": [
        {
          "output_type": "stream",
          "name": "stdout",
          "text": [
            "[25 54 55  1 51 65 47 59 55 60 47  1 62 51 64  1 58 47  1 62 64 55 59 47\n",
            "  1 68 61 58 66 47  1 55 58  1 49 61 59 62 58 51]  ->  65\n",
            "'Chi esamina per la prima volta il comple'  ->  's'\n"
          ]
        }
      ]
    },
    {
      "cell_type": "code",
      "metadata": {
        "colab": {
          "base_uri": "https://localhost:8080/"
        },
        "id": "dKDniBUjfefZ",
        "outputId": "f80a0bef-46c2-484c-cabc-2347b1de1cc4"
      },
      "source": [
        "## define the function for splitting x & y\n",
        "def split_input_target(chunk):\n",
        "    input_seq = chunk[:-1]\n",
        "    target_seq = chunk[1:]\n",
        "    return input_seq, target_seq\n",
        "\n",
        "ds_sequences = ds_chunks.map(split_input_target)\n",
        "\n",
        "## inspection:\n",
        "for example in ds_sequences.take(2):\n",
        "    print(' Input (x):', repr(''.join(char_array[example[0].numpy()])))\n",
        "    print('Target (y):', repr(''.join(char_array[example[1].numpy()])))\n",
        "    print()"
      ],
      "execution_count": null,
      "outputs": [
        {
          "output_type": "stream",
          "name": "stdout",
          "text": [
            " Input (x): 'Chi esamina per la prima volta il comple'\n",
            "Target (y): 'hi esamina per la prima volta il comples'\n",
            "\n",
            " Input (x): 'so e meraviglioso sviluppo del pensiero '\n",
            "Target (y): 'o e meraviglioso sviluppo del pensiero s'\n",
            "\n"
          ]
        }
      ]
    },
    {
      "cell_type": "code",
      "metadata": {
        "colab": {
          "base_uri": "https://localhost:8080/"
        },
        "id": "ZEcxILFvfp7u",
        "outputId": "de379979-d176-48ef-b507-89176668ab1b"
      },
      "source": [
        "# Batch size\n",
        "BATCH_SIZE = 64\n",
        "BUFFER_SIZE = 10000\n",
        "\n",
        "tf.random.set_seed(1)\n",
        "ds = ds_sequences.shuffle(BUFFER_SIZE).batch(BATCH_SIZE)# drop_remainder=True)\n",
        "\n",
        "ds"
      ],
      "execution_count": null,
      "outputs": [
        {
          "output_type": "execute_result",
          "data": {
            "text/plain": [
              "<BatchDataset shapes: ((None, 40), (None, 40)), types: (tf.int32, tf.int32)>"
            ]
          },
          "metadata": {},
          "execution_count": 23
        }
      ]
    },
    {
      "cell_type": "markdown",
      "metadata": {
        "id": "CNPdcPJPf4nJ"
      },
      "source": [
        "Costruzione del modello"
      ]
    },
    {
      "cell_type": "code",
      "metadata": {
        "colab": {
          "base_uri": "https://localhost:8080/"
        },
        "id": "ga3ApJwDf6NS",
        "outputId": "35e0cf1d-b651-4e46-b011-803c901cb1d7"
      },
      "source": [
        "def build_model(vocab_size, embedding_dim, rnn_units):\n",
        "    model = tf.keras.Sequential([\n",
        "        tf.keras.layers.Embedding(vocab_size, embedding_dim),\n",
        "        tf.keras.layers.LSTM(\n",
        "            rnn_units, return_sequences=True),\n",
        "        tf.keras.layers.Dense(vocab_size)\n",
        "    ])\n",
        "    return model\n",
        "\n",
        "\n",
        "charset_size = len(char_array)\n",
        "embedding_dim = 256\n",
        "rnn_units = 512\n",
        "\n",
        "tf.random.set_seed(1)\n",
        "\n",
        "model = build_model(\n",
        "    vocab_size = charset_size,\n",
        "    embedding_dim=embedding_dim,\n",
        "    rnn_units=rnn_units)\n",
        "\n",
        "model.summary()"
      ],
      "execution_count": null,
      "outputs": [
        {
          "output_type": "stream",
          "name": "stdout",
          "text": [
            "Model: \"sequential_2\"\n",
            "_________________________________________________________________\n",
            "Layer (type)                 Output Shape              Param #   \n",
            "=================================================================\n",
            "embedding_1 (Embedding)      (None, None, 256)         28160     \n",
            "_________________________________________________________________\n",
            "lstm (LSTM)                  (None, None, 512)         1574912   \n",
            "_________________________________________________________________\n",
            "dense_3 (Dense)              (None, None, 110)         56430     \n",
            "=================================================================\n",
            "Total params: 1,659,502\n",
            "Trainable params: 1,659,502\n",
            "Non-trainable params: 0\n",
            "_________________________________________________________________\n"
          ]
        }
      ]
    },
    {
      "cell_type": "code",
      "metadata": {
        "colab": {
          "base_uri": "https://localhost:8080/"
        },
        "id": "-giLgMpVf-8V",
        "outputId": "3c7fe2b5-e3c5-4e81-c399-2ddb195e5b64"
      },
      "source": [
        "model.compile(\n",
        "    optimizer='adam', \n",
        "    loss=tf.keras.losses.SparseCategoricalCrossentropy(\n",
        "        from_logits=True\n",
        "    ))\n",
        "\n",
        "model.fit(ds, epochs=20)"
      ],
      "execution_count": null,
      "outputs": [
        {
          "output_type": "stream",
          "name": "stdout",
          "text": [
            "Epoch 1/20\n",
            "38/38 [==============================] - 2s 12ms/step - loss: 3.3346\n",
            "Epoch 2/20\n",
            "38/38 [==============================] - 1s 11ms/step - loss: 2.8237\n",
            "Epoch 3/20\n",
            "38/38 [==============================] - 1s 11ms/step - loss: 2.5471\n",
            "Epoch 4/20\n",
            "38/38 [==============================] - 1s 11ms/step - loss: 2.3851\n",
            "Epoch 5/20\n",
            "38/38 [==============================] - 1s 12ms/step - loss: 2.2791\n",
            "Epoch 6/20\n",
            "38/38 [==============================] - 1s 11ms/step - loss: 2.2052\n",
            "Epoch 7/20\n",
            "38/38 [==============================] - 1s 11ms/step - loss: 2.1521\n",
            "Epoch 8/20\n",
            "38/38 [==============================] - 1s 11ms/step - loss: 2.1038\n",
            "Epoch 9/20\n",
            "38/38 [==============================] - 1s 12ms/step - loss: 2.0604\n",
            "Epoch 10/20\n",
            "38/38 [==============================] - 1s 12ms/step - loss: 2.0192\n",
            "Epoch 11/20\n",
            "38/38 [==============================] - 1s 11ms/step - loss: 1.9807\n",
            "Epoch 12/20\n",
            "38/38 [==============================] - 1s 11ms/step - loss: 1.9475\n",
            "Epoch 13/20\n",
            "38/38 [==============================] - 1s 12ms/step - loss: 1.9152\n",
            "Epoch 14/20\n",
            "38/38 [==============================] - 1s 11ms/step - loss: 1.8824\n",
            "Epoch 15/20\n",
            "38/38 [==============================] - 1s 11ms/step - loss: 1.8509\n",
            "Epoch 16/20\n",
            "38/38 [==============================] - 1s 11ms/step - loss: 1.8246\n",
            "Epoch 17/20\n",
            "38/38 [==============================] - 1s 11ms/step - loss: 1.7960\n",
            "Epoch 18/20\n",
            "38/38 [==============================] - 1s 11ms/step - loss: 1.7688\n",
            "Epoch 19/20\n",
            "38/38 [==============================] - 1s 11ms/step - loss: 1.7458\n",
            "Epoch 20/20\n",
            "38/38 [==============================] - 1s 11ms/step - loss: 1.7183\n"
          ]
        },
        {
          "output_type": "execute_result",
          "data": {
            "text/plain": [
              "<keras.callbacks.History at 0x7f3090febe50>"
            ]
          },
          "metadata": {},
          "execution_count": 25
        }
      ]
    },
    {
      "cell_type": "markdown",
      "metadata": {
        "id": "xGjCJn79gpqy"
      },
      "source": [
        "#--------------------------------------"
      ]
    },
    {
      "cell_type": "code",
      "metadata": {
        "colab": {
          "base_uri": "https://localhost:8080/"
        },
        "id": "ZKZc26d5grRm",
        "outputId": "1e9621fe-acd6-43c9-e8ed-5b7b7a7ab786"
      },
      "source": [
        "tf.random.set_seed(1)\n",
        "\n",
        "logits = [[1.0, 1.0, 1.0]]\n",
        "print('Probabilities:', tf.math.softmax(logits).numpy()[0])\n",
        "\n",
        "samples = tf.random.categorical(\n",
        "    logits=logits, num_samples=10)\n",
        "tf.print(samples.numpy())"
      ],
      "execution_count": null,
      "outputs": [
        {
          "output_type": "stream",
          "name": "stdout",
          "text": [
            "Probabilities: [0.33333334 0.33333334 0.33333334]\n",
            "array([[1, 2, 0, 1, 0, 1, 1, 2, 1, 1]])\n"
          ]
        }
      ]
    },
    {
      "cell_type": "code",
      "metadata": {
        "colab": {
          "base_uri": "https://localhost:8080/"
        },
        "id": "swNHDgmrgz4J",
        "outputId": "a9716848-ae71-4c5b-da73-68cfe17abb86"
      },
      "source": [
        "tf.random.set_seed(1)\n",
        "\n",
        "logits = [[1.0, 1.0, 3.0]]\n",
        "print('Probabilities:', tf.math.softmax(logits).numpy()[0])\n",
        "\n",
        "samples = tf.random.categorical(\n",
        "    logits=logits, num_samples=10)\n",
        "tf.print(samples.numpy())"
      ],
      "execution_count": null,
      "outputs": [
        {
          "output_type": "stream",
          "name": "stdout",
          "text": [
            "Probabilities: [0.10650698 0.10650698 0.78698605]\n",
            "array([[2, 2, 0, 2, 2, 2, 2, 2, 1, 2]])\n"
          ]
        }
      ]
    },
    {
      "cell_type": "markdown",
      "metadata": {
        "id": "vGCB9brthApe"
      },
      "source": [
        "Ora creero una metodo dove alla fine passero alcune parole e mi restituire un testo"
      ]
    },
    {
      "cell_type": "code",
      "metadata": {
        "colab": {
          "base_uri": "https://localhost:8080/"
        },
        "id": "rwoTsjishGm6",
        "outputId": "cceb73a9-60ff-4d53-d844-c2098026bdc6"
      },
      "source": [
        "def sample(model, starting_str, \n",
        "           len_generated_text=500, \n",
        "           max_input_length=40,\n",
        "           scale_factor=1.0):\n",
        "    encoded_input = [char2int[s] for s in starting_str]\n",
        "    encoded_input = tf.reshape(encoded_input, (1, -1))\n",
        "\n",
        "    generated_str = starting_str\n",
        "\n",
        "    model.reset_states()\n",
        "    for i in range(len_generated_text):\n",
        "        logits = model(encoded_input)\n",
        "        logits = tf.squeeze(logits, 0)\n",
        "\n",
        "        scaled_logits = logits * scale_factor\n",
        "        new_char_indx = tf.random.categorical(\n",
        "            scaled_logits, num_samples=1)\n",
        "        \n",
        "        new_char_indx = tf.squeeze(new_char_indx)[-1].numpy()    \n",
        "\n",
        "        generated_str += str(char_array[new_char_indx])\n",
        "        \n",
        "        new_char_indx = tf.expand_dims([new_char_indx], 0)\n",
        "        encoded_input = tf.concat(\n",
        "            [encoded_input, new_char_indx],\n",
        "            axis=1)\n",
        "        encoded_input = encoded_input[:, -max_input_length:]\n",
        "\n",
        "    return generated_str\n",
        "\n",
        "tf.random.set_seed(1)\n",
        "print(sample(model, starting_str='La storia'))#--------------------------------------------------- passo la parola in starting_str"
      ],
      "execution_count": null,
      "outputs": [
        {
          "output_type": "stream",
          "name": "stdout",
          "text": [
            "La storiarda, e finomerà saltamente dal Mousto (uanza, spedeno a preitora della mendia dagio ancerantoresier er scoppossomò e difertare alla stano, carento il teriua, a recalcino la quana davororia dell’aria, e allora he proptato è chi ule carca e meruria riberitati del bragli e chimica, senzza stocera, e quingi che quel oporidi il favonia, vore Opera in un sulluzione penalda apteovi di Strichi, e ri dal esperia serò andosch quall’iononza chimie dotta bhinuzioni sifuramente vondese sovanne e rivoro i sir\n"
          ]
        }
      ]
    },
    {
      "cell_type": "code",
      "metadata": {
        "colab": {
          "base_uri": "https://localhost:8080/"
        },
        "id": "YfFeqmL6hkJG",
        "outputId": "3d03988a-241a-430e-ddb2-e162384c1953"
      },
      "source": [
        "print(sample(model, starting_str='amico'))"
      ],
      "execution_count": null,
      "outputs": [
        {
          "output_type": "stream",
          "name": "stdout",
          "text": [
            "amico della quasta vandori di avenzi in lavoro, questa di aveva il ritincò l’ait uns fiche, il respesso predere in quale Lavoisier, svenrantiche, sosso non già edo, da solto una sposse a viemba di chimico; na Ra le parti desto sia fogico, e degli attanzionere, mporione citati (1783 1775.\n",
            "Quest detà che il qualla del Lovoisier e floria supintoità l’suogli.\n",
            "Olara, e speditale cortere chemelte (1 sigini e storgata, ill’Accoid allunque dell’aritro acintice all’rotatti, il mogoro ben palti spessista compl\n"
          ]
        }
      ]
    }
  ]
}