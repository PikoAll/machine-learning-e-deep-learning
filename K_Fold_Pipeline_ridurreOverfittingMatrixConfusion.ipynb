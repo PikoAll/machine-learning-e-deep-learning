{
  "nbformat": 4,
  "nbformat_minor": 0,
  "metadata": {
    "colab": {
      "name": "K-Fold Pipeline ridurreOverfittingMatrixConfusion.ipynb",
      "provenance": [],
      "collapsed_sections": [],
      "authorship_tag": "ABX9TyP8DLRCrm5VSNtpsXNqcrzD",
      "include_colab_link": true
    },
    "kernelspec": {
      "name": "python3",
      "display_name": "Python 3"
    },
    "language_info": {
      "name": "python"
    }
  },
  "cells": [
    {
      "cell_type": "markdown",
      "metadata": {
        "id": "view-in-github",
        "colab_type": "text"
      },
      "source": [
        "<a href=\"https://colab.research.google.com/github/PikoAll/machine-learning-e-deep-learning/blob/main/K_Fold_Pipeline_ridurreOverfittingMatrixConfusion.ipynb\" target=\"_parent\"><img src=\"https://colab.research.google.com/assets/colab-badge.svg\" alt=\"Open In Colab\"/></a>"
      ]
    },
    {
      "cell_type": "markdown",
      "metadata": {
        "id": "1C9A8k2filTS"
      },
      "source": [
        "#Pipeline combinazione di standardizazzione e modello preditivo.....\n",
        "#K-fold\n",
        "#grafici per vedere se c'e overfitting o underfitting e come risolvere\n",
        "\n",
        "#ricerca automatizzata per gli iperparametri migliori\n",
        "#matrice di confusione"
      ]
    },
    {
      "cell_type": "markdown",
      "metadata": {
        "id": "JEyIr1KoegPO"
      },
      "source": [
        "Uso del dataset di informazioni relative al tumore se e Benignio o Maligno"
      ]
    },
    {
      "cell_type": "code",
      "metadata": {
        "colab": {
          "base_uri": "https://localhost:8080/",
          "height": 204
        },
        "id": "lBK8p4qy6FAI",
        "outputId": "9f8388b7-8699-4c5f-d448-fd3e219429da"
      },
      "source": [
        "import pandas as pd\n",
        "\n",
        "df = pd.read_csv('https://archive.ics.uci.edu/ml/'\n",
        "                 'machine-learning-databases'\n",
        "                 '/breast-cancer-wisconsin/wdbc.data', header=None)\n",
        "df.head()"
      ],
      "execution_count": null,
      "outputs": [
        {
          "output_type": "execute_result",
          "data": {
            "text/html": [
              "<div>\n",
              "<style scoped>\n",
              "    .dataframe tbody tr th:only-of-type {\n",
              "        vertical-align: middle;\n",
              "    }\n",
              "\n",
              "    .dataframe tbody tr th {\n",
              "        vertical-align: top;\n",
              "    }\n",
              "\n",
              "    .dataframe thead th {\n",
              "        text-align: right;\n",
              "    }\n",
              "</style>\n",
              "<table border=\"1\" class=\"dataframe\">\n",
              "  <thead>\n",
              "    <tr style=\"text-align: right;\">\n",
              "      <th></th>\n",
              "      <th>0</th>\n",
              "      <th>1</th>\n",
              "      <th>2</th>\n",
              "      <th>3</th>\n",
              "      <th>4</th>\n",
              "      <th>5</th>\n",
              "      <th>6</th>\n",
              "      <th>7</th>\n",
              "      <th>8</th>\n",
              "      <th>9</th>\n",
              "      <th>10</th>\n",
              "      <th>11</th>\n",
              "      <th>12</th>\n",
              "      <th>13</th>\n",
              "      <th>14</th>\n",
              "      <th>15</th>\n",
              "      <th>16</th>\n",
              "      <th>17</th>\n",
              "      <th>18</th>\n",
              "      <th>19</th>\n",
              "      <th>20</th>\n",
              "      <th>21</th>\n",
              "      <th>22</th>\n",
              "      <th>23</th>\n",
              "      <th>24</th>\n",
              "      <th>25</th>\n",
              "      <th>26</th>\n",
              "      <th>27</th>\n",
              "      <th>28</th>\n",
              "      <th>29</th>\n",
              "      <th>30</th>\n",
              "      <th>31</th>\n",
              "    </tr>\n",
              "  </thead>\n",
              "  <tbody>\n",
              "    <tr>\n",
              "      <th>0</th>\n",
              "      <td>842302</td>\n",
              "      <td>M</td>\n",
              "      <td>17.99</td>\n",
              "      <td>10.38</td>\n",
              "      <td>122.80</td>\n",
              "      <td>1001.0</td>\n",
              "      <td>0.11840</td>\n",
              "      <td>0.27760</td>\n",
              "      <td>0.3001</td>\n",
              "      <td>0.14710</td>\n",
              "      <td>0.2419</td>\n",
              "      <td>0.07871</td>\n",
              "      <td>1.0950</td>\n",
              "      <td>0.9053</td>\n",
              "      <td>8.589</td>\n",
              "      <td>153.40</td>\n",
              "      <td>0.006399</td>\n",
              "      <td>0.04904</td>\n",
              "      <td>0.05373</td>\n",
              "      <td>0.01587</td>\n",
              "      <td>0.03003</td>\n",
              "      <td>0.006193</td>\n",
              "      <td>25.38</td>\n",
              "      <td>17.33</td>\n",
              "      <td>184.60</td>\n",
              "      <td>2019.0</td>\n",
              "      <td>0.1622</td>\n",
              "      <td>0.6656</td>\n",
              "      <td>0.7119</td>\n",
              "      <td>0.2654</td>\n",
              "      <td>0.4601</td>\n",
              "      <td>0.11890</td>\n",
              "    </tr>\n",
              "    <tr>\n",
              "      <th>1</th>\n",
              "      <td>842517</td>\n",
              "      <td>M</td>\n",
              "      <td>20.57</td>\n",
              "      <td>17.77</td>\n",
              "      <td>132.90</td>\n",
              "      <td>1326.0</td>\n",
              "      <td>0.08474</td>\n",
              "      <td>0.07864</td>\n",
              "      <td>0.0869</td>\n",
              "      <td>0.07017</td>\n",
              "      <td>0.1812</td>\n",
              "      <td>0.05667</td>\n",
              "      <td>0.5435</td>\n",
              "      <td>0.7339</td>\n",
              "      <td>3.398</td>\n",
              "      <td>74.08</td>\n",
              "      <td>0.005225</td>\n",
              "      <td>0.01308</td>\n",
              "      <td>0.01860</td>\n",
              "      <td>0.01340</td>\n",
              "      <td>0.01389</td>\n",
              "      <td>0.003532</td>\n",
              "      <td>24.99</td>\n",
              "      <td>23.41</td>\n",
              "      <td>158.80</td>\n",
              "      <td>1956.0</td>\n",
              "      <td>0.1238</td>\n",
              "      <td>0.1866</td>\n",
              "      <td>0.2416</td>\n",
              "      <td>0.1860</td>\n",
              "      <td>0.2750</td>\n",
              "      <td>0.08902</td>\n",
              "    </tr>\n",
              "    <tr>\n",
              "      <th>2</th>\n",
              "      <td>84300903</td>\n",
              "      <td>M</td>\n",
              "      <td>19.69</td>\n",
              "      <td>21.25</td>\n",
              "      <td>130.00</td>\n",
              "      <td>1203.0</td>\n",
              "      <td>0.10960</td>\n",
              "      <td>0.15990</td>\n",
              "      <td>0.1974</td>\n",
              "      <td>0.12790</td>\n",
              "      <td>0.2069</td>\n",
              "      <td>0.05999</td>\n",
              "      <td>0.7456</td>\n",
              "      <td>0.7869</td>\n",
              "      <td>4.585</td>\n",
              "      <td>94.03</td>\n",
              "      <td>0.006150</td>\n",
              "      <td>0.04006</td>\n",
              "      <td>0.03832</td>\n",
              "      <td>0.02058</td>\n",
              "      <td>0.02250</td>\n",
              "      <td>0.004571</td>\n",
              "      <td>23.57</td>\n",
              "      <td>25.53</td>\n",
              "      <td>152.50</td>\n",
              "      <td>1709.0</td>\n",
              "      <td>0.1444</td>\n",
              "      <td>0.4245</td>\n",
              "      <td>0.4504</td>\n",
              "      <td>0.2430</td>\n",
              "      <td>0.3613</td>\n",
              "      <td>0.08758</td>\n",
              "    </tr>\n",
              "    <tr>\n",
              "      <th>3</th>\n",
              "      <td>84348301</td>\n",
              "      <td>M</td>\n",
              "      <td>11.42</td>\n",
              "      <td>20.38</td>\n",
              "      <td>77.58</td>\n",
              "      <td>386.1</td>\n",
              "      <td>0.14250</td>\n",
              "      <td>0.28390</td>\n",
              "      <td>0.2414</td>\n",
              "      <td>0.10520</td>\n",
              "      <td>0.2597</td>\n",
              "      <td>0.09744</td>\n",
              "      <td>0.4956</td>\n",
              "      <td>1.1560</td>\n",
              "      <td>3.445</td>\n",
              "      <td>27.23</td>\n",
              "      <td>0.009110</td>\n",
              "      <td>0.07458</td>\n",
              "      <td>0.05661</td>\n",
              "      <td>0.01867</td>\n",
              "      <td>0.05963</td>\n",
              "      <td>0.009208</td>\n",
              "      <td>14.91</td>\n",
              "      <td>26.50</td>\n",
              "      <td>98.87</td>\n",
              "      <td>567.7</td>\n",
              "      <td>0.2098</td>\n",
              "      <td>0.8663</td>\n",
              "      <td>0.6869</td>\n",
              "      <td>0.2575</td>\n",
              "      <td>0.6638</td>\n",
              "      <td>0.17300</td>\n",
              "    </tr>\n",
              "    <tr>\n",
              "      <th>4</th>\n",
              "      <td>84358402</td>\n",
              "      <td>M</td>\n",
              "      <td>20.29</td>\n",
              "      <td>14.34</td>\n",
              "      <td>135.10</td>\n",
              "      <td>1297.0</td>\n",
              "      <td>0.10030</td>\n",
              "      <td>0.13280</td>\n",
              "      <td>0.1980</td>\n",
              "      <td>0.10430</td>\n",
              "      <td>0.1809</td>\n",
              "      <td>0.05883</td>\n",
              "      <td>0.7572</td>\n",
              "      <td>0.7813</td>\n",
              "      <td>5.438</td>\n",
              "      <td>94.44</td>\n",
              "      <td>0.011490</td>\n",
              "      <td>0.02461</td>\n",
              "      <td>0.05688</td>\n",
              "      <td>0.01885</td>\n",
              "      <td>0.01756</td>\n",
              "      <td>0.005115</td>\n",
              "      <td>22.54</td>\n",
              "      <td>16.67</td>\n",
              "      <td>152.20</td>\n",
              "      <td>1575.0</td>\n",
              "      <td>0.1374</td>\n",
              "      <td>0.2050</td>\n",
              "      <td>0.4000</td>\n",
              "      <td>0.1625</td>\n",
              "      <td>0.2364</td>\n",
              "      <td>0.07678</td>\n",
              "    </tr>\n",
              "  </tbody>\n",
              "</table>\n",
              "</div>"
            ],
            "text/plain": [
              "         0  1      2      3       4   ...      27      28      29      30       31\n",
              "0    842302  M  17.99  10.38  122.80  ...  0.6656  0.7119  0.2654  0.4601  0.11890\n",
              "1    842517  M  20.57  17.77  132.90  ...  0.1866  0.2416  0.1860  0.2750  0.08902\n",
              "2  84300903  M  19.69  21.25  130.00  ...  0.4245  0.4504  0.2430  0.3613  0.08758\n",
              "3  84348301  M  11.42  20.38   77.58  ...  0.8663  0.6869  0.2575  0.6638  0.17300\n",
              "4  84358402  M  20.29  14.34  135.10  ...  0.2050  0.4000  0.1625  0.2364  0.07678\n",
              "\n",
              "[5 rows x 32 columns]"
            ]
          },
          "metadata": {},
          "execution_count": 1
        }
      ]
    },
    {
      "cell_type": "markdown",
      "metadata": {
        "id": "pktcry90fB3Y"
      },
      "source": [
        "poichè abbiamo B=benignio ed M=maligno dobbiamo farli diventare 0 e 1 "
      ]
    },
    {
      "cell_type": "code",
      "metadata": {
        "colab": {
          "base_uri": "https://localhost:8080/"
        },
        "id": "JVmyYcCGfOvh",
        "outputId": "a6f84a90-b7d8-4256-d250-96cc8330dd65"
      },
      "source": [
        "from sklearn.preprocessing import LabelEncoder\n",
        "X=df.loc[:,2:].values\n",
        "y=df.loc[:,1].values\n",
        "\n",
        "le=LabelEncoder()\n",
        "y=le.fit_transform(y)\n",
        "print('Da:',le.classes_)\n",
        "print('A:',le.transform(['M','B']))"
      ],
      "execution_count": null,
      "outputs": [
        {
          "output_type": "stream",
          "name": "stdout",
          "text": [
            "Da: ['B' 'M']\n",
            "A: [1 0]\n"
          ]
        }
      ]
    },
    {
      "cell_type": "code",
      "metadata": {
        "id": "hT1At-dWgP_p"
      },
      "source": [
        "from sklearn.model_selection import train_test_split\n",
        "X_train,X_test,y_train,y_test=train_test_split(X,y,test_size=0.2,stratify=y, random_state=1)"
      ],
      "execution_count": null,
      "outputs": []
    },
    {
      "cell_type": "markdown",
      "metadata": {
        "id": "l6ifTfVUgxrY"
      },
      "source": [
        "Ora creiamo una pipeline che è un insieme di:\n",
        "standerdizzazione, regressione logistica, PCA una tecnica che comprime tutte le 30 colonne di attributi"
      ]
    },
    {
      "cell_type": "code",
      "metadata": {
        "colab": {
          "base_uri": "https://localhost:8080/"
        },
        "id": "29oHaY57gxM-",
        "outputId": "7c922873-0149-461d-a44a-c646d5388955"
      },
      "source": [
        "from sklearn.preprocessing import StandardScaler\n",
        "from sklearn.decomposition import PCA\n",
        "from sklearn.linear_model import LogisticRegression\n",
        "from sklearn.pipeline import make_pipeline\n",
        "\n",
        "pipeLr=make_pipeline(StandardScaler(),PCA(n_components=2),LogisticRegression(random_state=1,solver='lbfgs'))  #con PCA le 30 colonne diventano 2\n",
        "\n",
        "pipeLr.fit(X_train,y_train)\n",
        "\n",
        "print('Accuratezza:',pipeLr.score(X_test,y_test))"
      ],
      "execution_count": null,
      "outputs": [
        {
          "output_type": "stream",
          "name": "stdout",
          "text": [
            "Accuratezza: 0.956140350877193\n"
          ]
        }
      ]
    },
    {
      "cell_type": "markdown",
      "metadata": {
        "id": "CYPLVorOiwOS"
      },
      "source": [
        "K-fold                                                                           \n",
        "Un ulteriore tecnica utile e quella di creare dati di adestramento, di convalida,e di test\n",
        "se si usa una kfold su una rete neurale e meglio che ad ogni iterazione la rete viene ricreata cancellando le informazioni che aveva non solo con la rete ma con tutti i modelli (in questo caso non la stiamo facendo"
      ]
    },
    {
      "cell_type": "code",
      "metadata": {
        "colab": {
          "base_uri": "https://localhost:8080/"
        },
        "id": "vUA5ezUgiBdS",
        "outputId": "41bb631d-1c1c-4b01-be20-44afc3824c2b"
      },
      "source": [
        "import numpy as np\n",
        "from sklearn.model_selection import StratifiedKFold\n",
        "\n",
        "kfold=StratifiedKFold(n_splits=10).split(X_train,y_train)\n",
        "\n",
        "scores=[]\n",
        "for k,(train,test) in enumerate(kfold):\n",
        "  pipeLr.fit(X_train[train],y_train[train])\n",
        "  score=pipeLr.score(X_train[test],y_train[test])\n",
        "  scores.append(score)\n",
        "\n",
        "  print('K=',k+1,' Accuratezza=',score)\n",
        "\n",
        "print('\\nMedia acuratezza',np.mean(scores))\n"
      ],
      "execution_count": null,
      "outputs": [
        {
          "output_type": "stream",
          "name": "stdout",
          "text": [
            "K= 1  Accuratezza= 0.9347826086956522\n",
            "K= 2  Accuratezza= 0.9347826086956522\n",
            "K= 3  Accuratezza= 0.9565217391304348\n",
            "K= 4  Accuratezza= 0.9565217391304348\n",
            "K= 5  Accuratezza= 0.9347826086956522\n",
            "K= 6  Accuratezza= 0.9555555555555556\n",
            "K= 7  Accuratezza= 0.9777777777777777\n",
            "K= 8  Accuratezza= 0.9333333333333333\n",
            "K= 9  Accuratezza= 0.9555555555555556\n",
            "K= 10  Accuratezza= 0.9555555555555556\n",
            "\n",
            "Media acuratezza 0.9495169082125603\n"
          ]
        }
      ]
    },
    {
      "cell_type": "markdown",
      "metadata": {
        "id": "YTtv2Du_mqLO"
      },
      "source": [
        "#Un modo migliore per scrivere la K-fold e:"
      ]
    },
    {
      "cell_type": "code",
      "metadata": {
        "colab": {
          "base_uri": "https://localhost:8080/"
        },
        "id": "uwn1I4vdmpy_",
        "outputId": "c1eac321-2f1b-48ea-a0dc-946d8c41359d"
      },
      "source": [
        "from sklearn.model_selection import cross_val_score\n",
        "\n",
        "scores=cross_val_score(estimator=pipeLr,X=X_train,y=y_train, cv=10,n_jobs=1) #cv indica il numero dei fold estimator passiamo il nostro modello, se in n_job avreimesso -1 avrei distibuito tutti i core in parallelo\n",
        "print('Accuratezza per fold:',scores)\n",
        "print('Acuratezza media',np.mean(scores))"
      ],
      "execution_count": null,
      "outputs": [
        {
          "output_type": "stream",
          "name": "stdout",
          "text": [
            "Accuratezza per fold: [0.93478261 0.93478261 0.95652174 0.95652174 0.93478261 0.95555556\n",
            " 0.97777778 0.93333333 0.95555556 0.95555556]\n",
            "Acuratezza media 0.9495169082125603\n"
          ]
        }
      ]
    },
    {
      "cell_type": "code",
      "metadata": {
        "colab": {
          "base_uri": "https://localhost:8080/",
          "height": 297
        },
        "id": "b2Oi-VYpnZnJ",
        "outputId": "107b1674-977b-4811-ac50-153531d78746"
      },
      "source": [
        "import matplotlib.pyplot as plt\n",
        "from sklearn.model_selection import learning_curve\n",
        "\n",
        "\n",
        "pipe_lr = make_pipeline(StandardScaler(),\n",
        "                        LogisticRegression(penalty='l2', random_state=1,\n",
        "                                           solver='lbfgs', max_iter=10000))\n",
        "\n",
        "train_sizes, train_scores, test_scores =\\\n",
        "                learning_curve(estimator=pipe_lr,\n",
        "                               X=X_train,\n",
        "                               y=y_train,\n",
        "                               train_sizes=np.linspace(0.1, 1.0, 10),\n",
        "                               cv=10,\n",
        "                               n_jobs=1)\n",
        "\n",
        "train_mean = np.mean(train_scores, axis=1)\n",
        "train_std = np.std(train_scores, axis=1)\n",
        "test_mean = np.mean(test_scores, axis=1)\n",
        "test_std = np.std(test_scores, axis=1)\n",
        "\n",
        "plt.plot(train_sizes, train_mean,\n",
        "         color='blue', marker='o',\n",
        "         markersize=5, label='Training accuracy')\n",
        "\n",
        "plt.fill_between(train_sizes,\n",
        "                 train_mean + train_std,\n",
        "                 train_mean - train_std,\n",
        "                 alpha=0.15, color='blue')\n",
        "\n",
        "plt.plot(train_sizes, test_mean,\n",
        "         color='green', linestyle='--',\n",
        "         marker='s', markersize=5,\n",
        "         label='Validation accuracy')\n",
        "\n",
        "plt.fill_between(train_sizes,\n",
        "                 test_mean + test_std,\n",
        "                 test_mean - test_std,\n",
        "                 alpha=0.15, color='green')\n",
        "\n",
        "plt.grid()\n",
        "plt.xlabel('Number of training examples')\n",
        "plt.ylabel('Accuracy')\n",
        "plt.legend(loc='lower right')\n",
        "plt.ylim([0.8, 1.03])\n",
        "plt.tight_layout()\n",
        "# plt.savefig('images/06_05.png', dpi=300)\n",
        "plt.show()"
      ],
      "execution_count": null,
      "outputs": [
        {
          "output_type": "display_data",
          "data": {
            "image/png": "[encoded data removed]",
            "text/plain": [
              "<Figure size 432x288 with 1 Axes>"
            ]
          },
          "metadata": {
            "needs_background": "light"
          }
        }
      ]
    },
    {
      "cell_type": "markdown",
      "metadata": {
        "id": "RMaFZ2rZqWhG"
      },
      "source": [
        "#ricerca automatizzata per gli iperparametri migliori\n",
        "tramite la griglia di ricerca"
      ]
    },
    {
      "cell_type": "code",
      "metadata": {
        "colab": {
          "base_uri": "https://localhost:8080/"
        },
        "id": "ZPs_r88zpFVN",
        "outputId": "55b6fab8-affd-4829-94d9-38231124a708"
      },
      "source": [
        "from sklearn.model_selection import GridSearchCV\n",
        "from sklearn.svm import SVC\n",
        "\n",
        "pipeSVC=make_pipeline(StandardScaler(),SVC(random_state=1))\n",
        "\n",
        "param_range = [0.0001, 0.001, 0.01, 0.1, 1.0, 10.0, 100.0, 1000.0]\n",
        "\n",
        "param_grid = [{'svc__C': param_range, \n",
        "               'svc__kernel': ['linear']},\n",
        "              {'svc__C': param_range, \n",
        "               'svc__gamma': param_range, \n",
        "               'svc__kernel': ['rbf']}]\n",
        "\n",
        "gs = GridSearchCV(estimator=pipeSVC, \n",
        "                  param_grid=param_grid, \n",
        "                  scoring='accuracy', \n",
        "                  refit=True,\n",
        "                  cv=10,\n",
        "                  n_jobs=-1)\n",
        "gs = gs.fit(X_train, y_train)\n",
        "print(gs.best_score_)\n",
        "print(gs.best_params_)"
      ],
      "execution_count": null,
      "outputs": [
        {
          "output_type": "stream",
          "name": "stdout",
          "text": [
            "0.9846859903381642\n",
            "{'svc__C': 100.0, 'svc__gamma': 0.001, 'svc__kernel': 'rbf'}\n"
          ]
        }
      ]
    },
    {
      "cell_type": "markdown",
      "metadata": {
        "id": "g7-sxWpzrmOS"
      },
      "source": [
        "ora mi salvo il modello migliore e lo provo sui dati di test"
      ]
    },
    {
      "cell_type": "code",
      "metadata": {
        "colab": {
          "base_uri": "https://localhost:8080/"
        },
        "id": "37j-k5VurRaZ",
        "outputId": "54117d4a-e5c7-4a9c-b2c9-9ea550ecc50b"
      },
      "source": [
        "best=gs.best_estimator_\n",
        "best.fit(X_train,y_train)\n",
        "print('Acuratezza:',best.score(X_test,y_test))"
      ],
      "execution_count": null,
      "outputs": [
        {
          "output_type": "stream",
          "name": "stdout",
          "text": [
            "Acuratezza: 0.9736842105263158\n"
          ]
        }
      ]
    },
    {
      "cell_type": "markdown",
      "metadata": {
        "id": "RDz-llEys39I"
      },
      "source": [
        "Matrice di confusione"
      ]
    },
    {
      "cell_type": "markdown",
      "metadata": {
        "id": "mAScdpXEs-3H"
      },
      "source": [
        "![image.png](data:image/png;base64,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)"
      ]
    },
    {
      "cell_type": "code",
      "metadata": {
        "colab": {
          "base_uri": "https://localhost:8080/"
        },
        "id": "C0W6C5CVs57C",
        "outputId": "7e07ba81-ab7f-416a-83d7-e3d914eaba54"
      },
      "source": [
        "from sklearn.metrics import confusion_matrix\n",
        "\n",
        "pipeSVC.fit(X_train, y_train)\n",
        "y_pred = pipeSVC.predict(X_test)\n",
        "confmat = confusion_matrix(y_true=y_test, y_pred=y_pred)\n",
        "print(confmat)"
      ],
      "execution_count": null,
      "outputs": [
        {
          "output_type": "stream",
          "name": "stdout",
          "text": [
            "[[71  1]\n",
            " [ 2 40]]\n"
          ]
        }
      ]
    },
    {
      "cell_type": "code",
      "metadata": {
        "colab": {
          "base_uri": "https://localhost:8080/",
          "height": 189
        },
        "id": "caRRpd3ytNBU",
        "outputId": "09c1368a-abcd-41ce-b002-2139e62399a8"
      },
      "source": [
        "fig, ax = plt.subplots(figsize=(2.5, 2.5))\n",
        "ax.matshow(confmat, cmap=plt.cm.Blues, alpha=0.3)\n",
        "for i in range(confmat.shape[0]):\n",
        "    for j in range(confmat.shape[1]):\n",
        "        ax.text(x=j, y=i, s=confmat[i, j], va='center', ha='center')\n",
        "\n",
        "plt.xlabel('Predicted label')\n",
        "plt.ylabel('True label')\n",
        "\n",
        "plt.tight_layout()\n",
        "#plt.savefig('images/06_09.png', dpi=300)\n",
        "plt.show()"
      ],
      "execution_count": null,
      "outputs": [
        {
          "output_type": "display_data",
          "data": {
            "image/png": "[encoded data removed]",
            "text/plain": [
              "<Figure size 180x180 with 1 Axes>"
            ]
          },
          "metadata": {
            "needs_background": "light"
          }
        }
      ]
    },
    {
      "cell_type": "code",
      "metadata": {
        "id": "eaAf-Tq3tV-4"
      },
      "source": [
        ""
      ],
      "execution_count": null,
      "outputs": []
    }
  ]
}